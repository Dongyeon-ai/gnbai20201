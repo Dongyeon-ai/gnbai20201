{
  "nbformat": 4,
  "nbformat_minor": 0,
  "metadata": {
    "colab": {
      "name": "gnbai_lab2_Parkeunbin",
      "provenance": [],
      "collapsed_sections": [],
      "include_colab_link": true
    },
    "kernelspec": {
      "name": "python3",
      "display_name": "Python 3"
    }
  },
  "cells": [
    {
      "cell_type": "markdown",
      "metadata": {
        "id": "view-in-github",
        "colab_type": "text"
      },
      "source": [
        "<a href=\"https://colab.research.google.com/github/ParkEunbin/gnbai20201/blob/master/lab2/ParkEunBin/gnbai_lab2_Parkeunbin.ipynb\" target=\"_parent\"><img src=\"https://colab.research.google.com/assets/colab-badge.svg\" alt=\"Open In Colab\"/></a>"
      ]
    },
    {
      "cell_type": "markdown",
      "metadata": {
        "id": "lmJpYA7HZ_7t",
        "colab_type": "text"
      },
      "source": [
        "# GnB AI Project Assignment\n",
        "## Lab 2: Regularized Regression\n"
      ]
    },
    {
      "cell_type": "markdown",
      "metadata": {
        "id": "Yu4gHSym93uq",
        "colab_type": "text"
      },
      "source": [
        "### Tasks\n",
        "1. data_lab2.txt의 데이터를 읽고, train 데이터 70%, test 데이터 30%로 분할하여라.\n",
        "2. 다음의 가설 함수들에 대해 파라미터의 최적값을 구하여라.\n",
        "    \n",
        "    (비정규화 회귀는 최소 제곱법, 정규화 회귀는 closed-form solution 사용)\n",
        "    \n",
        "    * 비정규화 회귀 – 선형 모델\n",
        "    * 비정규화 회귀 – 2차 다항식 모델\n",
        "    * 비정규화 회귀 – 5차 다항식 모델\n",
        "    * 정규화 회귀 – 5차 다항식 모델 (Ridge)\n",
        "\n",
        "3. train 데이터 위에 학습된 회귀자들을 plot하고, train error를 구하여라.\n",
        "4. test 데이터 위에 학습된 회귀자들을 plot하고, test error를 구하여라"
      ]
    },
    {
      "cell_type": "markdown",
      "metadata": {
        "id": "6rg2Wpkg-Crw",
        "colab_type": "text"
      },
      "source": [
        "### Imports"
      ]
    },
    {
      "cell_type": "code",
      "metadata": {
        "id": "HXboxQ0X93Tr",
        "colab_type": "code",
        "colab": {}
      },
      "source": [
        "import numpy as np\n",
        "import pandas as pd\n",
        "import matplotlib.pyplot as plt"
      ],
      "execution_count": 0,
      "outputs": []
    },
    {
      "cell_type": "markdown",
      "metadata": {
        "id": "NdLwXc2E94RG",
        "colab_type": "text"
      },
      "source": [
        "### 1. Train-test split"
      ]
    },
    {
      "cell_type": "code",
      "metadata": {
        "id": "CjjYC13fZ_FQ",
        "colab_type": "code",
        "outputId": "de70f32e-1b2f-4b69-ad19-5f6c1b824724",
        "colab": {
          "base_uri": "https://localhost:8080/",
          "height": 263
        }
      },
      "source": [
        "# pandas를 통해 txt 파일 읽어오기\n",
        "name_file = './data_lab2.txt'\n",
        "columns = ['x', 'y']\n",
        "\n",
        "data_pd = pd.read_csv(name_file, names=columns, sep='\\t')\n",
        "\n",
        "print(data_pd)"
      ],
      "execution_count": 54,
      "outputs": [
        {
          "output_type": "stream",
          "text": [
            "         x       y\n",
            "0     2.94  34.340\n",
            "1     3.06  34.520\n",
            "2     3.07  34.318\n",
            "3     3.16  34.360\n",
            "4     3.26  34.490\n",
            "..     ...     ...\n",
            "195  16.10  33.770\n",
            "196  16.14  33.808\n",
            "197  16.52  33.851\n",
            "198  16.82  33.953\n",
            "199  17.10  33.950\n",
            "\n",
            "[200 rows x 2 columns]\n"
          ],
          "name": "stdout"
        }
      ]
    },
    {
      "cell_type": "code",
      "metadata": {
        "id": "AKMnMDLL_qzu",
        "colab_type": "code",
        "outputId": "a7025dfb-4809-4727-df72-f6f4dcbc8c05",
        "colab": {
          "base_uri": "https://localhost:8080/",
          "height": 210
        }
      },
      "source": [
        "# pandas dataframe을 numpy array로 변환\n",
        "data_np = data_pd.values\n",
        "\n",
        "# data_pd는 더이상 필요하지 않으므로 메모리를 비워줍니다.\n",
        "del data_pd\n",
        "\n",
        "# 데이터의 순서를 랜덤으로 섞기\n",
        "np.random.shuffle(data_np)\n",
        "\n",
        "# 처음과 끝의 5개의 데이터를 출력\n",
        "print(data_np[:5])\n",
        "print('...')\n",
        "print(data_np[-5:])"
      ],
      "execution_count": 55,
      "outputs": [
        {
          "output_type": "stream",
          "text": [
            "[[ 5.6   34.04 ]\n",
            " [14.21  33.488]\n",
            " [10.45  33.431]\n",
            " [ 6.49  34.04 ]\n",
            " [ 9.6   33.104]]\n",
            "...\n",
            "[[ 5.58  34.167]\n",
            " [10.51  33.39 ]\n",
            " [12.64  33.068]\n",
            " [ 9.69  32.43 ]\n",
            " [ 7.06  33.934]]\n"
          ],
          "name": "stdout"
        }
      ]
    },
    {
      "cell_type": "code",
      "metadata": {
        "id": "CGNn2JKZ-7A3",
        "colab_type": "code",
        "outputId": "61bc1482-428e-4a3c-f053-e7ae9faf6b72",
        "colab": {
          "base_uri": "https://localhost:8080/",
          "height": 87
        }
      },
      "source": [
        "# train set과 test set의 크기를 결정\n",
        "data_size = len(data_np)\n",
        "\n",
        "train_size = int(data_size * 0.7)\n",
        "test_size = data_size - train_size\n",
        "\n",
        "# train-test set 나누기\n",
        "x_train = data_np[:train_size, 0].reshape(-1, 1)\n",
        "y_train = data_np[:train_size, 1].reshape(-1, 1)\n",
        "\n",
        "x_test = data_np[-test_size:, 0].reshape(-1, 1)\n",
        "y_test = data_np[-test_size:, 1].reshape(-1, 1)\n",
        "\n",
        "# data_np도 더이상 필요하지 않으므로 메모리를 비워줍니다.\n",
        "del data_np\n",
        "\n",
        "print(\"shape of x_train :\", x_train.shape)\n",
        "print(\"shape of y_train :\", y_train.shape)\n",
        "print(\"shape of x_test :\", x_test.shape)\n",
        "print(\"shape of y_test :\", y_test.shape)"
      ],
      "execution_count": 56,
      "outputs": [
        {
          "output_type": "stream",
          "text": [
            "shape of x_train : (140, 1)\n",
            "shape of y_train : (140, 1)\n",
            "shape of x_test : (60, 1)\n",
            "shape of y_test : (60, 1)\n"
          ],
          "name": "stdout"
        }
      ]
    },
    {
      "cell_type": "code",
      "metadata": {
        "id": "2wowAZQcDNTr",
        "colab_type": "code",
        "outputId": "cc842203-6515-4dab-ca95-381a4fcfd732",
        "colab": {
          "base_uri": "https://localhost:8080/",
          "height": 295
        }
      },
      "source": [
        "# data plot하기\n",
        "plt.title('Plot Original Data')\n",
        "plt.plot(x_train, y_train, 'r.', label='train data')\n",
        "plt.plot(x_test, y_test, 'b.', label='test data')\n",
        "plt.xlabel('x')\n",
        "plt.ylabel('y')\n",
        "plt.legend()\n",
        "plt.show()"
      ],
      "execution_count": 57,
      "outputs": [
        {
          "output_type": "display_data",
          "data": {
            "image/png": "[encoded data removed]",
            "text/plain": [
              "<Figure size 432x288 with 1 Axes>"
            ]
          },
          "metadata": {
            "tags": [],
            "needs_background": "light"
          }
        }
      ]
    },
    {
      "cell_type": "markdown",
      "metadata": {
        "id": "Uds8zaFHaP0d",
        "colab_type": "text"
      },
      "source": [
        "### 2. Finding optimal parameters"
      ]
    },
    {
      "cell_type": "markdown",
      "metadata": {
        "id": "zsYA_p5rHWTO",
        "colab_type": "text"
      },
      "source": [
        "#### 모델 정의\n",
        "\n",
        "1. 비정규화 회귀 – 선형 모델\n",
        "    \n",
        "    $h_\\theta^{(1)}(x)=\\theta_0+\\theta_1x_1 \\quad\\quad\\left(x_n=x^n\\right)$\n",
        "\n",
        "2. 비정규화 회귀 – 2차 다항식 모델\n",
        "    \n",
        "    $h_\\theta^{(2)}(x)=\\theta_0+\\theta_1x_1+\\theta_2x_2$\n",
        "\n",
        "3. 비정규화 회귀 – 5차 다항식 모델\n",
        "    \n",
        "    $h_\\theta^{(3)}(x)=\\theta_0+\\theta_1x_1+\\theta_2x_2+\\theta_3x_3+\\theta_4x_4+\\theta_5x_5$\n",
        "\n",
        "4. 정규화 회귀 – 5차 다항식 모델 (Ridge)\n",
        "    \n",
        "    $h_\\theta^{(4)}(x)=\\theta_0+\\theta_1x_1+\\theta_2x_2+\\theta_3x_3+\\theta_4x_4+\\theta_5x_5$\n",
        "\n",
        "\n",
        "##### 각 모델들의 x 행렬\n",
        "$\n",
        "X^{(h^{(1)})}=\n",
        "  \\begin{bmatrix}\n",
        "    1 & x_1^{(1)} \\\\\n",
        "    1 & x_1^{(2)} \\\\\n",
        "    \\vdots & \\vdots \\\\\n",
        "    1 & x_1^{(I)} \\\\\n",
        "  \\end{bmatrix}\n",
        "$ \n",
        "\n",
        "$\n",
        "X^{(h^{(2)})}=\n",
        "  \\begin{bmatrix}\n",
        "    1 & x_1^{(1)} & x_2^{(1)} \\\\\n",
        "    1 & x_1^{(2)}& x_2^{(2)} \\\\\n",
        "    \\vdots & \\vdots & \\vdots \\\\\n",
        "    1 & x_1^{(I)}& x_2^{(I)} \\\\\n",
        "  \\end{bmatrix}\n",
        "$ \n",
        "\n",
        "$\n",
        "X^{(h^{(3)})}=\n",
        "  \\begin{bmatrix}\n",
        "    1 & x_1^{(1)} & \\cdots & x_5^{(1)} \\\\\n",
        "    1 & x_1^{(2)}& \\cdots & x_5^{(2)} \\\\\n",
        "    \\vdots & \\vdots &  & \\vdots \\\\\n",
        "    1 & x_1^{(I)}& \\cdots & x_5^{(I)} \\\\\n",
        "  \\end{bmatrix}\n",
        "$ \n",
        "\n",
        "$\n",
        "X^{(h^{(4)})}=\n",
        "  \\begin{bmatrix}\n",
        "    1 & x_1^{(1)} & \\cdots & x_5^{(1)} \\\\\n",
        "    1 & x_1^{(2)}& \\cdots & x_5^{(2)} \\\\\n",
        "    \\vdots & \\vdots &  & \\vdots \\\\\n",
        "    1 & x_1^{(I)}& \\cdots & x_5^{(I)} \\\\\n",
        "  \\end{bmatrix}\n",
        "$\n"
      ]
    },
    {
      "cell_type": "code",
      "metadata": {
        "id": "gW2ZWgvLE_Xo",
        "colab_type": "code",
        "outputId": "b65898ab-db32-4d64-c781-71676759a705",
        "colab": {
          "base_uri": "https://localhost:8080/",
          "height": 87
        }
      },
      "source": [
        "# 1. 비정규화 선형 회귀: x1_train\n",
        "x1_train=np.column_stack((np.ones_like(x_train),x_train))\n",
        "# print(x1_train[:10])\n",
        "# 2. 비정규화 2차 회귀: x2_train\n",
        "x2_train=np.column_stack((np.ones_like(x_train),x_train,pow(x_train,2)))\n",
        "#print(x2_train[:10])\n",
        "# 3. 비정규화 5차 회귀: x3_train\n",
        "x3_train=np.column_stack((np.ones_like(x_train),x_train,pow(x_train,2),pow(x_train,3),pow(x_train,4),pow(x_train,5)))\n",
        "# 4. 정규화 5차 회귀: x4_train\n",
        "x4_train=np.column_stack((np.ones_like(x_train),x_train,pow(x_train,2),pow(x_train,3),pow(x_train,4),pow(x_train,5)))\n",
        "# x1_train, x2_train, x3_train, x4_train의 shape 출력\n",
        "print('shape of x1_train',x1_train.shape)\n",
        "print('shape of x2_train',x2_train.shape)\n",
        "print('shape of x3_train',x3_train.shape)\n",
        "print('shape of x4_train',x4_train.shape)\n"
      ],
      "execution_count": 58,
      "outputs": [
        {
          "output_type": "stream",
          "text": [
            "shape of x1_train (140, 2)\n",
            "shape of x2_train (140, 3)\n",
            "shape of x3_train (140, 6)\n",
            "shape of x4_train (140, 6)\n"
          ],
          "name": "stdout"
        }
      ]
    },
    {
      "cell_type": "code",
      "metadata": {
        "id": "6UofK3G3NiTH",
        "colab_type": "code",
        "outputId": "01027561-0410-4a82-f868-0de36945fa39",
        "colab": {
          "base_uri": "https://localhost:8080/",
          "height": 87
        }
      },
      "source": [
        "# 1. 비정규화 선형 회귀: x1_test\n",
        "x1_test=np.column_stack((np.ones_like(x_test),x_test))\n",
        "# 2. 비정규화 2차 회귀: x2_test\n",
        "x2_test=np.column_stack((np.ones_like(x_test),x_test,pow(x_test,2)))\n",
        "# 3. 비정규화 5차 회귀: x3_test\n",
        "x3_test=np.column_stack((np.ones_like(x_test),x_test,pow(x_test,2),pow(x_test,3),pow(x_test,4),pow(x_test,5)))\n",
        "# 4. 정규화 5차 회귀: x4_test\n",
        "x4_test=np.column_stack((np.ones_like(x_test),x_test,pow(x_test,2),pow(x_test,3),pow(x_test,4),pow(x_test,5)))\n",
        "# x1_test, x2_test, x3_test, x4_test의 shape 출력\n",
        "print('shape of x1_test',x1_test.shape)\n",
        "print('shape of x2_test',x2_test.shape)\n",
        "print('shape of x3_test',x3_test.shape)\n",
        "print('shape of x4_test',x4_test.shape)"
      ],
      "execution_count": 59,
      "outputs": [
        {
          "output_type": "stream",
          "text": [
            "shape of x1_test (60, 2)\n",
            "shape of x2_test (60, 3)\n",
            "shape of x3_test (60, 6)\n",
            "shape of x4_test (60, 6)\n"
          ],
          "name": "stdout"
        }
      ]
    },
    {
      "cell_type": "markdown",
      "metadata": {
        "id": "Se--zZZRHnSE",
        "colab_type": "text"
      },
      "source": [
        "#### 2) Finding parameters\n",
        "1. 비정규화 회귀 모델의 최소 제곱법에 의한 해\n",
        "    \n",
        "    $\\theta^*=\\left(x^Tx\\right)^{-1}x^Ty$\n",
        "\n",
        "2. Ridge 정규화 회귀 모델의 닫힌 형태의 해\n",
        "    \n",
        "    $\\theta^*=\\left(x^Tx+\\lambda  \n",
        "        \\begin{bmatrix}\n",
        "            0 & 0 & \\cdots & 0 \\\\\n",
        "            0 & 1 & \\cdots & 0 \\\\\n",
        "            \\vdots & \\vdots & \\ddots & \\vdots \\\\\n",
        "            0 & 0 & \\cdots & 1 \\\\\n",
        "        \\end{bmatrix}\n",
        "    \\right)^{-1}x^Ty$"
      ]
    },
    {
      "cell_type": "code",
      "metadata": {
        "id": "8s6E9j14Z2UL",
        "colab_type": "code",
        "outputId": "557343bd-f93a-4169-a8a0-b33d4427886a",
        "colab": {
          "base_uri": "https://localhost:8080/",
          "height": 422
        }
      },
      "source": [
        "# 1. 비정규화 선형 회귀: theta1\n",
        "theta1 =np.matmul(np.linalg.inv(np.matmul(np.transpose(x1_train),x1_train)),np.matmul(np.transpose(x1_train),y_train))\n",
        "\n",
        "# 2. 비정규화 2차 회귀: theta2\n",
        "theta2 =np.matmul(np.linalg.inv(np.matmul(np.transpose(x2_train),x2_train)),np.matmul(np.transpose(x2_train),y_train))\n",
        "\n",
        "# 3. 비정규화 5차 회귀: theta3\n",
        "theta3 =np.matmul(np.linalg.inv(np.matmul(np.transpose(x3_train),x3_train)),np.matmul(np.transpose(x3_train),y_train))\n",
        "\n",
        "# 4. 정규화 5차 회귀: theta4\n",
        "Lambda = 0.2\n",
        "A=np.eye(6)\n",
        "A[0,0]=0\n",
        "print(A)\n",
        "theta4 =np.matmul(np.linalg.inv(np.matmul(np.transpose(x4_train),x4_train)+Lambda*A),np.matmul(np.transpose(x4_train),y_train))\n",
        "# theta값 출력\n",
        "print(theta1)\n",
        "print(theta2)\n",
        "print(theta3)\n",
        "print(theta4)"
      ],
      "execution_count": 60,
      "outputs": [
        {
          "output_type": "stream",
          "text": [
            "[[0. 0. 0. 0. 0. 0.]\n",
            " [0. 1. 0. 0. 0. 0.]\n",
            " [0. 0. 1. 0. 0. 0.]\n",
            " [0. 0. 0. 1. 0. 0.]\n",
            " [0. 0. 0. 0. 1. 0.]\n",
            " [0. 0. 0. 0. 0. 1.]]\n",
            "[[34.37113839]\n",
            " [-0.07078895]]\n",
            "[[ 3.57931044e+01]\n",
            " [-4.19970850e-01]\n",
            " [ 1.81431008e-02]]\n",
            "[[ 3.63618743e+01]\n",
            " [-1.48434475e+00]\n",
            " [ 4.31094224e-01]\n",
            " [-6.08432316e-02]\n",
            " [ 3.80797290e-03]\n",
            " [-8.53686710e-05]]\n",
            "[[ 3.44772903e+01]\n",
            " [-2.22744803e-01]\n",
            " [ 1.22172907e-01]\n",
            " [-2.57806447e-02]\n",
            " [ 1.94042956e-03]\n",
            " [-4.76383009e-05]]\n"
          ],
          "name": "stdout"
        }
      ]
    },
    {
      "cell_type": "markdown",
      "metadata": {
        "id": "An9WU4lnhPAr",
        "colab_type": "text"
      },
      "source": [
        "## 3. Plot training data with fitted curve"
      ]
    },
    {
      "cell_type": "code",
      "metadata": {
        "id": "WBIZrFy6Jx9a",
        "colab_type": "code",
        "outputId": "22f96309-6eb3-49dd-b5ca-9e95c32e6704",
        "colab": {
          "base_uri": "https://localhost:8080/",
          "height": 282
        }
      },
      "source": [
        "# 데이터의 순서를 shuffle했기 때문에 \n",
        "# 데이터의 순서대로 plot하면 정상적으로 그려지지 않으므로\n",
        "# 일정한 간격으로 오름차순의 구간을 만들어주는 np.linspace 사용\n",
        "x = np.linspace(min(x_train), max(x_train), 140)\n",
        "\n",
        "y1_train=theta1[0]+theta1[1]*x\n",
        "y2_train=theta2[0]+theta2[1]*x+theta2[2]*(x**2)\n",
        "y3_train=theta3[0]+theta3[1]*x+theta3[2]*(x**2)+theta3[3]*(x**3)+theta3[4]*(x**4)+theta3[5]*(x**5)\n",
        "y4_train=theta4[0]+theta4[1]*x+theta4[2]*(x**2)+theta4[3]*(x**3)+theta4[4]*(x**4)+theta4[5]*(x**5)\n",
        "\n",
        "\n",
        "# x_train의 최솟값부터 최댓값까지 128등분\n",
        "\n",
        "# train data와 regressor 함께 plot하기\n",
        "plt.plot(x_train, y_train,'ro')\n",
        "plt.plot(x,y1_train,'b')\n",
        "plt.plot(x,y2_train,'y')\n",
        "plt.plot(x,y3_train,'g')\n",
        "plt.plot(x,y4_train,'r')"
      ],
      "execution_count": 61,
      "outputs": [
        {
          "output_type": "execute_result",
          "data": {
            "text/plain": [
              "[<matplotlib.lines.Line2D at 0x7f2dd1e71f60>]"
            ]
          },
          "metadata": {
            "tags": []
          },
          "execution_count": 61
        },
        {
          "output_type": "display_data",
          "data": {
            "image/png": "[encoded data removed]",
            "text/plain": [
              "<Figure size 432x288 with 1 Axes>"
            ]
          },
          "metadata": {
            "tags": [],
            "needs_background": "light"
          }
        }
      ]
    },
    {
      "cell_type": "markdown",
      "metadata": {
        "id": "Xk6hHCh8n6jM",
        "colab_type": "text"
      },
      "source": [
        "## 4. Compute traing errors"
      ]
    },
    {
      "cell_type": "markdown",
      "metadata": {
        "id": "sYglUE_43Jjg",
        "colab_type": "text"
      },
      "source": [
        "* MSE (Mean of Squared Error)\n",
        "    - 데이터의 갯수가 다르더라도 오차값을 비교할 수 있다.\n",
        "\n",
        "$$MSE=\\dfrac{1}{I}\\sum_{i=1}^I\\left(\\hat{y}-y\\right)^2$$\n",
        "\n",
        "* SSE (Sum of Squared Error)\n",
        "    - 미분 계산 시에 수식이 깔끔하다.\n",
        "\n",
        "$$SSE=\\dfrac{1}{2}\\sum_{i=1}^I\\left(\\hat{y}-y\\right)^2$$"
      ]
    },
    {
      "cell_type": "code",
      "metadata": {
        "id": "VVWf83g3sR5F",
        "colab_type": "code",
        "colab": {}
      },
      "source": [
        "def MSE(y_hat, y):\n",
        "    result = 0.\n",
        "    # result 값을 완성해보세요!\n",
        "    for i in range (y.shape[0]):\n",
        "      result=result+pow((y_hat[i]-y[i]),2)\n",
        "    result=(1/y.shape[0])*result\n",
        "\n",
        "    return result"
      ],
      "execution_count": 0,
      "outputs": []
    },
    {
      "cell_type": "code",
      "metadata": {
        "id": "7jriAUCUOTxV",
        "colab_type": "code",
        "colab": {}
      },
      "source": [
        "def get_error(theta_n, x_n, y):\n",
        "\n",
        "    # 임의의 회귀 모델의 입력 x_n과\n",
        "    # 계산한 파라미터 theta_n으로\n",
        "    # y_hat 행렬을 구해보세요!\n",
        "\n",
        "    y_hat=np.matmul(x_n,theta_n)\n",
        "    return MSE(y_hat, y)"
      ],
      "execution_count": 0,
      "outputs": []
    },
    {
      "cell_type": "code",
      "metadata": {
        "id": "-1m4v9xSrhVp",
        "colab_type": "code",
        "outputId": "d132a13e-a8ba-4065-9228-f5acc32490e1",
        "colab": {
          "base_uri": "https://localhost:8080/",
          "height": 140
        }
      },
      "source": [
        "# get_error() 함수로 4개의 모델의 train error 구하기\n",
        "print(theta1.shape)\n",
        "print(x1_train.shape)\n",
        "print(y1_train.shape)\n",
        "\n",
        "train_error1=get_error(theta1,x1_train,y_train)\n",
        "train_error2=get_error(theta2,x2_train,y_train)\n",
        "train_error3=get_error(theta3,x3_train,y_train)\n",
        "train_error4=get_error(theta4,x4_train,y_train)\n",
        "# train error 출력하기\n",
        "print(train_error1)\n",
        "print(train_error2)\n",
        "print(train_error3)\n",
        "print(train_error4)"
      ],
      "execution_count": 64,
      "outputs": [
        {
          "output_type": "stream",
          "text": [
            "(2, 1)\n",
            "(140, 2)\n",
            "(140, 1)\n",
            "[0.13782986]\n",
            "[0.07456746]\n",
            "[0.05900292]\n",
            "[0.05945959]\n"
          ],
          "name": "stdout"
        }
      ]
    },
    {
      "cell_type": "markdown",
      "metadata": {
        "id": "Hr3nCqlUrh1K",
        "colab_type": "text"
      },
      "source": [
        "## 5. Plot test data with fitted curve"
      ]
    },
    {
      "cell_type": "code",
      "metadata": {
        "id": "1-psvuorrhHq",
        "colab_type": "code",
        "outputId": "1c03a70a-4eff-4cc3-8041-99864db885b7",
        "colab": {
          "base_uri": "https://localhost:8080/",
          "height": 282
        }
      },
      "source": [
        "# x_test의 최솟값부터 최댓값까지 128등분\n",
        "x_t = np.linspace(min(x_train), max(x_train), 128)\n",
        "# test data와 regressor 함께 plot하기\n",
        "plt.plot(x_test,y_test,'r.')\n",
        "plt.plot(x,y1_train,'b')\n",
        "plt.plot(x,y2_train,'y')\n",
        "plt.plot(x,y3_train,'g')\n",
        "plt.plot(x,y4_train,'r')"
      ],
      "execution_count": 65,
      "outputs": [
        {
          "output_type": "execute_result",
          "data": {
            "text/plain": [
              "[<matplotlib.lines.Line2D at 0x7f2dd4ddb780>]"
            ]
          },
          "metadata": {
            "tags": []
          },
          "execution_count": 65
        },
        {
          "output_type": "display_data",
          "data": {
            "image/png": "[encoded data removed]",
            "text/plain": [
              "<Figure size 432x288 with 1 Axes>"
            ]
          },
          "metadata": {
            "tags": [],
            "needs_background": "light"
          }
        }
      ]
    },
    {
      "cell_type": "markdown",
      "metadata": {
        "id": "WFLR8e-nriUR",
        "colab_type": "text"
      },
      "source": [
        "## 6. Compute test errors"
      ]
    },
    {
      "cell_type": "code",
      "metadata": {
        "id": "_worb0enn50d",
        "colab_type": "code",
        "colab": {
          "base_uri": "https://localhost:8080/",
          "height": 87
        },
        "outputId": "a27856f6-f612-4b77-d02d-7c1e5f52f298"
      },
      "source": [
        "# get_error() 함수로 4개의 모델의 test error 구하기\n",
        "\n",
        "test_error1=get_error(theta1,x1_test,y_test)\n",
        "test_error2=get_error(theta2,x2_test,y_test)\n",
        "test_error3=get_error(theta3,x3_test,y_test)\n",
        "test_error4=get_error(theta4,x4_test,y_test)\n",
        "# test error 출력하기\n",
        "print(test_error1)\n",
        "print(test_error2)\n",
        "print(test_error3)\n",
        "print(test_error4)"
      ],
      "execution_count": 66,
      "outputs": [
        {
          "output_type": "stream",
          "text": [
            "[0.21220456]\n",
            "[0.11172504]\n",
            "[0.09223952]\n",
            "[0.09016684]\n"
          ],
          "name": "stdout"
        }
      ]
    }
  ]
}