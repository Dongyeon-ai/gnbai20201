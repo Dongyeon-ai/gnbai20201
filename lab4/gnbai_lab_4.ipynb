{
  "nbformat": 4,
  "nbformat_minor": 0,
  "metadata": {
    "colab": {
      "name": "gnbai_lab_4.ipynb",
      "provenance": [],
      "collapsed_sections": [],
      "authorship_tag": "ABX9TyPV9pGy82UfIVRkIQ5KLfXD",
      "include_colab_link": true
    },
    "kernelspec": {
      "name": "python3",
      "display_name": "Python 3"
    }
  },
  "cells": [
    {
      "cell_type": "markdown",
      "metadata": {
        "id": "view-in-github",
        "colab_type": "text"
      },
      "source": [
        "<a href=\"https://colab.research.google.com/github/yh08037/gnbai20201/blob/master/lab4/gnbai_lab_4.ipynb\" target=\"_parent\"><img src=\"https://colab.research.google.com/assets/colab-badge.svg\" alt=\"Open In Colab\"/></a>"
      ]
    },
    {
      "cell_type": "markdown",
      "metadata": {
        "id": "NALkeLbP87iU",
        "colab_type": "text"
      },
      "source": [
        "# GNB AI 프로젝트 4주차 실습\n",
        "## MLP\n",
        "### 1. Imports"
      ]
    },
    {
      "cell_type": "code",
      "metadata": {
        "id": "iLsc6Tas2Uqu",
        "colab_type": "code",
        "colab": {}
      },
      "source": [
        "import numpy as np\n",
        "import pandas as pd\n",
        "import matplotlib.pyplot as plt"
      ],
      "execution_count": 0,
      "outputs": []
    },
    {
      "cell_type": "markdown",
      "metadata": {
        "id": "EweAoEYl9FAE",
        "colab_type": "text"
      },
      "source": [
        "### 2. Load data"
      ]
    },
    {
      "cell_type": "code",
      "metadata": {
        "id": "LF1iTsou9Fu5",
        "colab_type": "code",
        "colab": {}
      },
      "source": [
        "columns = ['x1', 'x2', 'y']\n",
        "data = pd.read_csv(\"/content/data_lab3.txt\", names=columns, sep=' ')"
      ],
      "execution_count": 0,
      "outputs": []
    },
    {
      "cell_type": "code",
      "metadata": {
        "id": "_4KaTwO_9uRg",
        "colab_type": "code",
        "colab": {
          "base_uri": "https://localhost:8080/",
          "height": 1000
        },
        "outputId": "8582baa5-d79c-41b9-a2f2-8abc4b63bc1b"
      },
      "source": [
        "data"
      ],
      "execution_count": 5,
      "outputs": [
        {
          "output_type": "execute_result",
          "data": {
            "text/html": [
              "<div>\n",
              "<style scoped>\n",
              "    .dataframe tbody tr th:only-of-type {\n",
              "        vertical-align: middle;\n",
              "    }\n",
              "\n",
              "    .dataframe tbody tr th {\n",
              "        vertical-align: top;\n",
              "    }\n",
              "\n",
              "    .dataframe thead th {\n",
              "        text-align: right;\n",
              "    }\n",
              "</style>\n",
              "<table border=\"1\" class=\"dataframe\">\n",
              "  <thead>\n",
              "    <tr style=\"text-align: right;\">\n",
              "      <th></th>\n",
              "      <th>x1</th>\n",
              "      <th>x2</th>\n",
              "      <th>y</th>\n",
              "    </tr>\n",
              "  </thead>\n",
              "  <tbody>\n",
              "    <tr>\n",
              "      <th>0</th>\n",
              "      <td>1.964300</td>\n",
              "      <td>4.5957</td>\n",
              "      <td>1</td>\n",
              "    </tr>\n",
              "    <tr>\n",
              "      <th>1</th>\n",
              "      <td>2.275300</td>\n",
              "      <td>3.8589</td>\n",
              "      <td>1</td>\n",
              "    </tr>\n",
              "    <tr>\n",
              "      <th>2</th>\n",
              "      <td>2.978100</td>\n",
              "      <td>4.5651</td>\n",
              "      <td>1</td>\n",
              "    </tr>\n",
              "    <tr>\n",
              "      <th>3</th>\n",
              "      <td>2.932000</td>\n",
              "      <td>3.5519</td>\n",
              "      <td>1</td>\n",
              "    </tr>\n",
              "    <tr>\n",
              "      <th>4</th>\n",
              "      <td>3.577200</td>\n",
              "      <td>2.8560</td>\n",
              "      <td>1</td>\n",
              "    </tr>\n",
              "    <tr>\n",
              "      <th>5</th>\n",
              "      <td>4.015000</td>\n",
              "      <td>3.1937</td>\n",
              "      <td>1</td>\n",
              "    </tr>\n",
              "    <tr>\n",
              "      <th>6</th>\n",
              "      <td>3.381400</td>\n",
              "      <td>3.4291</td>\n",
              "      <td>1</td>\n",
              "    </tr>\n",
              "    <tr>\n",
              "      <th>7</th>\n",
              "      <td>3.911300</td>\n",
              "      <td>4.1761</td>\n",
              "      <td>1</td>\n",
              "    </tr>\n",
              "    <tr>\n",
              "      <th>8</th>\n",
              "      <td>2.782200</td>\n",
              "      <td>4.0431</td>\n",
              "      <td>1</td>\n",
              "    </tr>\n",
              "    <tr>\n",
              "      <th>9</th>\n",
              "      <td>2.551800</td>\n",
              "      <td>4.6162</td>\n",
              "      <td>1</td>\n",
              "    </tr>\n",
              "    <tr>\n",
              "      <th>10</th>\n",
              "      <td>3.369800</td>\n",
              "      <td>3.9101</td>\n",
              "      <td>1</td>\n",
              "    </tr>\n",
              "    <tr>\n",
              "      <th>11</th>\n",
              "      <td>3.104800</td>\n",
              "      <td>3.0709</td>\n",
              "      <td>1</td>\n",
              "    </tr>\n",
              "    <tr>\n",
              "      <th>12</th>\n",
              "      <td>1.918200</td>\n",
              "      <td>4.0534</td>\n",
              "      <td>1</td>\n",
              "    </tr>\n",
              "    <tr>\n",
              "      <th>13</th>\n",
              "      <td>2.263800</td>\n",
              "      <td>4.3706</td>\n",
              "      <td>1</td>\n",
              "    </tr>\n",
              "    <tr>\n",
              "      <th>14</th>\n",
              "      <td>2.655500</td>\n",
              "      <td>3.5008</td>\n",
              "      <td>1</td>\n",
              "    </tr>\n",
              "    <tr>\n",
              "      <th>15</th>\n",
              "      <td>3.185500</td>\n",
              "      <td>4.2888</td>\n",
              "      <td>1</td>\n",
              "    </tr>\n",
              "    <tr>\n",
              "      <th>16</th>\n",
              "      <td>3.657900</td>\n",
              "      <td>3.8692</td>\n",
              "      <td>1</td>\n",
              "    </tr>\n",
              "    <tr>\n",
              "      <th>17</th>\n",
              "      <td>3.911300</td>\n",
              "      <td>3.4291</td>\n",
              "      <td>1</td>\n",
              "    </tr>\n",
              "    <tr>\n",
              "      <th>18</th>\n",
              "      <td>3.600200</td>\n",
              "      <td>3.1221</td>\n",
              "      <td>1</td>\n",
              "    </tr>\n",
              "    <tr>\n",
              "      <th>19</th>\n",
              "      <td>3.035700</td>\n",
              "      <td>3.3165</td>\n",
              "      <td>1</td>\n",
              "    </tr>\n",
              "    <tr>\n",
              "      <th>20</th>\n",
              "      <td>1.584100</td>\n",
              "      <td>3.3575</td>\n",
              "      <td>0</td>\n",
              "    </tr>\n",
              "    <tr>\n",
              "      <th>21</th>\n",
              "      <td>2.010300</td>\n",
              "      <td>3.2039</td>\n",
              "      <td>0</td>\n",
              "    </tr>\n",
              "    <tr>\n",
              "      <th>22</th>\n",
              "      <td>1.952700</td>\n",
              "      <td>2.7843</td>\n",
              "      <td>0</td>\n",
              "    </tr>\n",
              "    <tr>\n",
              "      <th>23</th>\n",
              "      <td>2.275300</td>\n",
              "      <td>2.7127</td>\n",
              "      <td>0</td>\n",
              "    </tr>\n",
              "    <tr>\n",
              "      <th>24</th>\n",
              "      <td>2.309900</td>\n",
              "      <td>2.9584</td>\n",
              "      <td>0</td>\n",
              "    </tr>\n",
              "    <tr>\n",
              "      <th>25</th>\n",
              "      <td>2.828300</td>\n",
              "      <td>2.6309</td>\n",
              "      <td>0</td>\n",
              "    </tr>\n",
              "    <tr>\n",
              "      <th>26</th>\n",
              "      <td>3.047300</td>\n",
              "      <td>2.2931</td>\n",
              "      <td>0</td>\n",
              "    </tr>\n",
              "    <tr>\n",
              "      <th>27</th>\n",
              "      <td>2.482700</td>\n",
              "      <td>2.0373</td>\n",
              "      <td>0</td>\n",
              "    </tr>\n",
              "    <tr>\n",
              "      <th>28</th>\n",
              "      <td>2.505700</td>\n",
              "      <td>2.3853</td>\n",
              "      <td>0</td>\n",
              "    </tr>\n",
              "    <tr>\n",
              "      <th>29</th>\n",
              "      <td>1.872100</td>\n",
              "      <td>2.0577</td>\n",
              "      <td>0</td>\n",
              "    </tr>\n",
              "    <tr>\n",
              "      <th>30</th>\n",
              "      <td>2.010300</td>\n",
              "      <td>2.3546</td>\n",
              "      <td>0</td>\n",
              "    </tr>\n",
              "    <tr>\n",
              "      <th>31</th>\n",
              "      <td>1.226900</td>\n",
              "      <td>2.3239</td>\n",
              "      <td>0</td>\n",
              "    </tr>\n",
              "    <tr>\n",
              "      <th>32</th>\n",
              "      <td>1.895100</td>\n",
              "      <td>2.9174</td>\n",
              "      <td>0</td>\n",
              "    </tr>\n",
              "    <tr>\n",
              "      <th>33</th>\n",
              "      <td>1.561000</td>\n",
              "      <td>3.0709</td>\n",
              "      <td>0</td>\n",
              "    </tr>\n",
              "    <tr>\n",
              "      <th>34</th>\n",
              "      <td>1.549500</td>\n",
              "      <td>2.6923</td>\n",
              "      <td>0</td>\n",
              "    </tr>\n",
              "    <tr>\n",
              "      <th>35</th>\n",
              "      <td>1.687800</td>\n",
              "      <td>2.4057</td>\n",
              "      <td>0</td>\n",
              "    </tr>\n",
              "    <tr>\n",
              "      <th>36</th>\n",
              "      <td>1.491900</td>\n",
              "      <td>2.0271</td>\n",
              "      <td>0</td>\n",
              "    </tr>\n",
              "    <tr>\n",
              "      <th>37</th>\n",
              "      <td>0.962000</td>\n",
              "      <td>2.6820</td>\n",
              "      <td>0</td>\n",
              "    </tr>\n",
              "    <tr>\n",
              "      <th>38</th>\n",
              "      <td>1.169300</td>\n",
              "      <td>2.9276</td>\n",
              "      <td>0</td>\n",
              "    </tr>\n",
              "    <tr>\n",
              "      <th>39</th>\n",
              "      <td>0.812200</td>\n",
              "      <td>2.9992</td>\n",
              "      <td>0</td>\n",
              "    </tr>\n",
              "    <tr>\n",
              "      <th>40</th>\n",
              "      <td>0.973500</td>\n",
              "      <td>3.3881</td>\n",
              "      <td>0</td>\n",
              "    </tr>\n",
              "    <tr>\n",
              "      <th>41</th>\n",
              "      <td>1.250000</td>\n",
              "      <td>3.1937</td>\n",
              "      <td>0</td>\n",
              "    </tr>\n",
              "    <tr>\n",
              "      <th>42</th>\n",
              "      <td>1.319100</td>\n",
              "      <td>3.5109</td>\n",
              "      <td>0</td>\n",
              "    </tr>\n",
              "    <tr>\n",
              "      <th>43</th>\n",
              "      <td>2.229200</td>\n",
              "      <td>2.2010</td>\n",
              "      <td>0</td>\n",
              "    </tr>\n",
              "    <tr>\n",
              "      <th>44</th>\n",
              "      <td>2.448200</td>\n",
              "      <td>2.6411</td>\n",
              "      <td>0</td>\n",
              "    </tr>\n",
              "    <tr>\n",
              "      <th>45</th>\n",
              "      <td>2.793800</td>\n",
              "      <td>1.9656</td>\n",
              "      <td>0</td>\n",
              "    </tr>\n",
              "    <tr>\n",
              "      <th>46</th>\n",
              "      <td>2.091000</td>\n",
              "      <td>1.6177</td>\n",
              "      <td>0</td>\n",
              "    </tr>\n",
              "    <tr>\n",
              "      <th>47</th>\n",
              "      <td>2.540300</td>\n",
              "      <td>2.8867</td>\n",
              "      <td>0</td>\n",
              "    </tr>\n",
              "    <tr>\n",
              "      <th>48</th>\n",
              "      <td>0.904400</td>\n",
              "      <td>3.0198</td>\n",
              "      <td>0</td>\n",
              "    </tr>\n",
              "    <tr>\n",
              "      <th>49</th>\n",
              "      <td>0.766150</td>\n",
              "      <td>2.5899</td>\n",
              "      <td>0</td>\n",
              "    </tr>\n",
              "    <tr>\n",
              "      <th>50</th>\n",
              "      <td>0.086405</td>\n",
              "      <td>4.1045</td>\n",
              "      <td>1</td>\n",
              "    </tr>\n",
              "  </tbody>\n",
              "</table>\n",
              "</div>"
            ],
            "text/plain": [
              "          x1      x2  y\n",
              "0   1.964300  4.5957  1\n",
              "1   2.275300  3.8589  1\n",
              "2   2.978100  4.5651  1\n",
              "3   2.932000  3.5519  1\n",
              "4   3.577200  2.8560  1\n",
              "5   4.015000  3.1937  1\n",
              "6   3.381400  3.4291  1\n",
              "7   3.911300  4.1761  1\n",
              "8   2.782200  4.0431  1\n",
              "9   2.551800  4.6162  1\n",
              "10  3.369800  3.9101  1\n",
              "11  3.104800  3.0709  1\n",
              "12  1.918200  4.0534  1\n",
              "13  2.263800  4.3706  1\n",
              "14  2.655500  3.5008  1\n",
              "15  3.185500  4.2888  1\n",
              "16  3.657900  3.8692  1\n",
              "17  3.911300  3.4291  1\n",
              "18  3.600200  3.1221  1\n",
              "19  3.035700  3.3165  1\n",
              "20  1.584100  3.3575  0\n",
              "21  2.010300  3.2039  0\n",
              "22  1.952700  2.7843  0\n",
              "23  2.275300  2.7127  0\n",
              "24  2.309900  2.9584  0\n",
              "25  2.828300  2.6309  0\n",
              "26  3.047300  2.2931  0\n",
              "27  2.482700  2.0373  0\n",
              "28  2.505700  2.3853  0\n",
              "29  1.872100  2.0577  0\n",
              "30  2.010300  2.3546  0\n",
              "31  1.226900  2.3239  0\n",
              "32  1.895100  2.9174  0\n",
              "33  1.561000  3.0709  0\n",
              "34  1.549500  2.6923  0\n",
              "35  1.687800  2.4057  0\n",
              "36  1.491900  2.0271  0\n",
              "37  0.962000  2.6820  0\n",
              "38  1.169300  2.9276  0\n",
              "39  0.812200  2.9992  0\n",
              "40  0.973500  3.3881  0\n",
              "41  1.250000  3.1937  0\n",
              "42  1.319100  3.5109  0\n",
              "43  2.229200  2.2010  0\n",
              "44  2.448200  2.6411  0\n",
              "45  2.793800  1.9656  0\n",
              "46  2.091000  1.6177  0\n",
              "47  2.540300  2.8867  0\n",
              "48  0.904400  3.0198  0\n",
              "49  0.766150  2.5899  0\n",
              "50  0.086405  4.1045  1"
            ]
          },
          "metadata": {
            "tags": []
          },
          "execution_count": 5
        }
      ]
    },
    {
      "cell_type": "markdown",
      "metadata": {
        "id": "c3S6pzEH-Y54",
        "colab_type": "text"
      },
      "source": [
        "### 3. Define x"
      ]
    },
    {
      "cell_type": "code",
      "metadata": {
        "id": "pNqHe0RW9u3s",
        "colab_type": "code",
        "colab": {}
      },
      "source": [
        "data_np = np.asarray(data)\n",
        "\n",
        "# shuffle data\n",
        "np.random.shuffle(data_np)\n",
        "\n",
        "# define x\n",
        "x = data_np[:, :2]\n",
        "\n",
        "# define y\n",
        "labels = data_np[:, 2].astype(np.int)\n",
        "y = np.identity(2)[labels]"
      ],
      "execution_count": 0,
      "outputs": []
    },
    {
      "cell_type": "code",
      "metadata": {
        "id": "y7YoJsz-ADWw",
        "colab_type": "code",
        "colab": {
          "base_uri": "https://localhost:8080/",
          "height": 70
        },
        "outputId": "9483e828-ef90-4bb3-f7c4-d53808201528"
      },
      "source": [
        "labels"
      ],
      "execution_count": 11,
      "outputs": [
        {
          "output_type": "execute_result",
          "data": {
            "text/plain": [
              "array([1, 0, 1, 0, 1, 0, 1, 0, 1, 1, 0, 0, 1, 1, 1, 0, 1, 0, 0, 0, 1, 1,\n",
              "       0, 1, 0, 1, 1, 1, 0, 0, 0, 0, 0, 0, 0, 0, 0, 0, 1, 0, 1, 0, 1, 0,\n",
              "       0, 0, 0, 0, 1, 0, 1])"
            ]
          },
          "metadata": {
            "tags": []
          },
          "execution_count": 11
        }
      ]
    },
    {
      "cell_type": "code",
      "metadata": {
        "id": "jr_vnLiJ_X45",
        "colab_type": "code",
        "colab": {
          "base_uri": "https://localhost:8080/",
          "height": 914
        },
        "outputId": "f4d4669d-0656-49c0-eb59-0193586a6ca4"
      },
      "source": [
        "y"
      ],
      "execution_count": 10,
      "outputs": [
        {
          "output_type": "execute_result",
          "data": {
            "text/plain": [
              "array([[0., 1.],\n",
              "       [1., 0.],\n",
              "       [0., 1.],\n",
              "       [1., 0.],\n",
              "       [0., 1.],\n",
              "       [1., 0.],\n",
              "       [0., 1.],\n",
              "       [1., 0.],\n",
              "       [0., 1.],\n",
              "       [0., 1.],\n",
              "       [1., 0.],\n",
              "       [1., 0.],\n",
              "       [0., 1.],\n",
              "       [0., 1.],\n",
              "       [0., 1.],\n",
              "       [1., 0.],\n",
              "       [0., 1.],\n",
              "       [1., 0.],\n",
              "       [1., 0.],\n",
              "       [1., 0.],\n",
              "       [0., 1.],\n",
              "       [0., 1.],\n",
              "       [1., 0.],\n",
              "       [0., 1.],\n",
              "       [1., 0.],\n",
              "       [0., 1.],\n",
              "       [0., 1.],\n",
              "       [0., 1.],\n",
              "       [1., 0.],\n",
              "       [1., 0.],\n",
              "       [1., 0.],\n",
              "       [1., 0.],\n",
              "       [1., 0.],\n",
              "       [1., 0.],\n",
              "       [1., 0.],\n",
              "       [1., 0.],\n",
              "       [1., 0.],\n",
              "       [1., 0.],\n",
              "       [0., 1.],\n",
              "       [1., 0.],\n",
              "       [0., 1.],\n",
              "       [1., 0.],\n",
              "       [0., 1.],\n",
              "       [1., 0.],\n",
              "       [1., 0.],\n",
              "       [1., 0.],\n",
              "       [1., 0.],\n",
              "       [1., 0.],\n",
              "       [0., 1.],\n",
              "       [1., 0.],\n",
              "       [0., 1.]])"
            ]
          },
          "metadata": {
            "tags": []
          },
          "execution_count": 10
        }
      ]
    },
    {
      "cell_type": "code",
      "metadata": {
        "id": "lSTcZi-UAubs",
        "colab_type": "code",
        "colab": {
          "base_uri": "https://localhost:8080/",
          "height": 34
        },
        "outputId": "0dcefff0-9c82-453b-8c59-7c1987aca4b9"
      },
      "source": [
        "x.shape, y.shape"
      ],
      "execution_count": 13,
      "outputs": [
        {
          "output_type": "execute_result",
          "data": {
            "text/plain": [
              "((51, 2), (51, 2))"
            ]
          },
          "metadata": {
            "tags": []
          },
          "execution_count": 13
        }
      ]
    },
    {
      "cell_type": "code",
      "metadata": {
        "id": "syLsj6FD_YTG",
        "colab_type": "code",
        "colab": {}
      },
      "source": [
        "# define I, N, J, K\n",
        "\n",
        "I, N = x.shape  # unpacking\n",
        "J = y.shape[1]\n",
        "K = 5"
      ],
      "execution_count": 0,
      "outputs": []
    },
    {
      "cell_type": "code",
      "metadata": {
        "id": "0hkmKXWPBE6O",
        "colab_type": "code",
        "colab": {}
      },
      "source": [
        "# x_bar\n",
        "x_bar = np.hstack((np.ones((I, 1)), x))\n",
        "\n",
        "# initialize paramaters\n",
        "v = np.random.rand(N+1, K)  # weight of hidden layer\n",
        "w = np.random.rand(K+1, J)  # weight of output layer"
      ],
      "execution_count": 0,
      "outputs": []
    },
    {
      "cell_type": "code",
      "metadata": {
        "id": "xHnSYll6CUtq",
        "colab_type": "code",
        "colab": {
          "base_uri": "https://localhost:8080/",
          "height": 70
        },
        "outputId": "87801cf8-41a6-4eec-c468-f9ff14bf6c4b"
      },
      "source": [
        "v"
      ],
      "execution_count": 30,
      "outputs": [
        {
          "output_type": "execute_result",
          "data": {
            "text/plain": [
              "array([[0.12670187, 0.38997353, 0.46836878, 0.66903969, 0.15220709],\n",
              "       [0.33186943, 0.48102008, 0.19642047, 0.93122043, 0.0159369 ],\n",
              "       [0.27912932, 0.93604849, 0.08410263, 0.3999473 , 0.14041838]])"
            ]
          },
          "metadata": {
            "tags": []
          },
          "execution_count": 30
        }
      ]
    },
    {
      "cell_type": "code",
      "metadata": {
        "id": "QjM5SB4TCVvw",
        "colab_type": "code",
        "colab": {
          "base_uri": "https://localhost:8080/",
          "height": 122
        },
        "outputId": "f07dfb28-b938-47c7-d768-aa0e289d8143"
      },
      "source": [
        "w"
      ],
      "execution_count": 31,
      "outputs": [
        {
          "output_type": "execute_result",
          "data": {
            "text/plain": [
              "array([[0.85196745, 0.38973073],\n",
              "       [0.04145204, 0.81609409],\n",
              "       [0.95498898, 0.87977204],\n",
              "       [0.11124122, 0.78372807],\n",
              "       [0.47472422, 0.22410504],\n",
              "       [0.23405142, 0.57932696]])"
            ]
          },
          "metadata": {
            "tags": []
          },
          "execution_count": 31
        }
      ]
    },
    {
      "cell_type": "markdown",
      "metadata": {
        "id": "R1yPZ7hoCubW",
        "colab_type": "text"
      },
      "source": [
        "### 4. Train"
      ]
    },
    {
      "cell_type": "code",
      "metadata": {
        "id": "JYJWQQlGCzIQ",
        "colab_type": "code",
        "colab": {}
      },
      "source": [
        "# define hyperparameters\n",
        "\n",
        "alpha1 = 0.01\n",
        "alpha2 = 0.01\n",
        "\n",
        "max_epoch = 2000"
      ],
      "execution_count": 0,
      "outputs": []
    },
    {
      "cell_type": "code",
      "metadata": {
        "id": "8ApDzYUaDxx0",
        "colab_type": "code",
        "colab": {}
      },
      "source": [
        "def sigmoid(z):\n",
        "    return 1./(np.ones_like(z)+np.exp(-z))"
      ],
      "execution_count": 0,
      "outputs": []
    },
    {
      "cell_type": "code",
      "metadata": {
        "id": "IM8u8c_vHrRX",
        "colab_type": "code",
        "colab": {}
      },
      "source": [
        "def SSE(g, y):\n",
        "    result = 0.\n",
        "    for i in range(g.shape[0]):\n",
        "        for j in range(g.shape[1]):\n",
        "            result += (g[i,j]-y[i,j])**2\n",
        "    return result / 2."
      ],
      "execution_count": 0,
      "outputs": []
    },
    {
      "cell_type": "code",
      "metadata": {
        "id": "lzp6_KVeDAm7",
        "colab_type": "code",
        "colab": {
          "base_uri": "https://localhost:8080/",
          "height": 369
        },
        "outputId": "4e3d1704-c4f6-4976-8a1a-35d5b4bd931d"
      },
      "source": [
        "for epoch in range(max_epoch):    \n",
        "    # forward propagation\n",
        "    x_bar_bar = np.dot(x_bar, v)\n",
        "    F = sigmoid(x_bar_bar)\n",
        "    F_bar = np.hstack((np.ones((I, 1)), F))\n",
        "    F_bar_bar = np.dot(F_bar, w)\n",
        "    G = sigmoid(F_bar_bar)\n",
        "\n",
        "    # back propagation\n",
        "\n",
        "    # 출력층 단계\n",
        "    for k in range(0, K+1):\n",
        "        for j in range(0, J):\n",
        "            for i in range(0, I):\n",
        "                w[k,j] -= alpha1*(G[i,j]-y[i,j])*G[i,j]*(1-G[i,j])*F_bar[i,k]\n",
        "\n",
        "    # 은닉층 단계\n",
        "    for n in range(0, N+1):\n",
        "        for k in range(0, K):\n",
        "            for i in range(0, I):\n",
        "                for j in range(0, J):\n",
        "                    v[n,k] -= alpha2*(G[i,j]-y[i,j])*G[i,j]*(1-G[i,j])*w[k,j]*F[i,k]*(1-F[i,k])*x_bar[i,n]\n",
        "    \n",
        "    error = SSE(G, y)\n",
        "\n",
        "    if epoch % 100 == 0:\n",
        "        print(\"epoch: %d, error: %.2f\" %(epoch, error))"
      ],
      "execution_count": 35,
      "outputs": [
        {
          "output_type": "stream",
          "text": [
            "epoch: 0, error: 22.84\n",
            "epoch: 100, error: 12.60\n",
            "epoch: 200, error: 12.09\n",
            "epoch: 300, error: 11.57\n",
            "epoch: 400, error: 11.32\n",
            "epoch: 500, error: 11.58\n",
            "epoch: 600, error: 11.42\n",
            "epoch: 700, error: 11.10\n",
            "epoch: 800, error: 10.69\n",
            "epoch: 900, error: 10.24\n",
            "epoch: 1000, error: 9.76\n",
            "epoch: 1100, error: 9.26\n",
            "epoch: 1200, error: 8.76\n",
            "epoch: 1300, error: 8.27\n",
            "epoch: 1400, error: 7.79\n",
            "epoch: 1500, error: 7.32\n",
            "epoch: 1600, error: 6.88\n",
            "epoch: 1700, error: 6.47\n",
            "epoch: 1800, error: 6.09\n",
            "epoch: 1900, error: 5.75\n"
          ],
          "name": "stdout"
        }
      ]
    },
    {
      "cell_type": "code",
      "metadata": {
        "id": "NAfFVhJHHOFx",
        "colab_type": "code",
        "colab": {
          "base_uri": "https://localhost:8080/",
          "height": 70
        },
        "outputId": "4b3759ca-9ff4-434c-c930-0e30ebf17f5f"
      },
      "source": [
        "v"
      ],
      "execution_count": 36,
      "outputs": [
        {
          "output_type": "execute_result",
          "data": {
            "text/plain": [
              "array([[ 1.95053006,  0.787879  , -0.23186671,  1.02566047, -0.41628361],\n",
              "       [-0.41995958,  1.1471731 , -0.77046722,  1.48566351,  0.26389818],\n",
              "       [-0.51620641,  1.85149715, -1.37605233,  1.2013622 ,  0.33204833]])"
            ]
          },
          "metadata": {
            "tags": []
          },
          "execution_count": 36
        }
      ]
    },
    {
      "cell_type": "code",
      "metadata": {
        "id": "96ypDsN1GdNR",
        "colab_type": "code",
        "colab": {
          "base_uri": "https://localhost:8080/",
          "height": 122
        },
        "outputId": "ec7f15bf-15e5-4207-cc40-35df5f44979f"
      },
      "source": [
        "w"
      ],
      "execution_count": 37,
      "outputs": [
        {
          "output_type": "execute_result",
          "data": {
            "text/plain": [
              "array([[ 0.3469132 , -0.39317307],\n",
              "       [ 6.05611751, -6.12551074],\n",
              "       [-0.02327503,  0.59652093],\n",
              "       [ 1.69820387, -1.35855623],\n",
              "       [-0.40801603, -0.13958491],\n",
              "       [-2.28850655,  2.34367731]])"
            ]
          },
          "metadata": {
            "tags": []
          },
          "execution_count": 37
        }
      ]
    },
    {
      "cell_type": "markdown",
      "metadata": {
        "id": "EhMZelAeJ6dp",
        "colab_type": "text"
      },
      "source": [
        "### 5.Test"
      ]
    },
    {
      "cell_type": "code",
      "metadata": {
        "id": "YoRLX7eVHOqW",
        "colab_type": "code",
        "colab": {}
      },
      "source": [
        "def h(x, v, w):\n",
        "    _x_bar = np.hstack((np.ones((I, 1)), x))\n",
        "    _x_bar_bar = np.dot(_x_bar, v)\n",
        "    _F = sigmoid(_x_bar_bar)\n",
        "\n",
        "    _F_bar = np.hstack((np.ones((I, 1)), _F))\n",
        "    _F_bar_bar = np.dot(_F_bar, w)\n",
        "    _G = sigmoid(_F_bar_bar)\n",
        "\n",
        "    return _G"
      ],
      "execution_count": 0,
      "outputs": []
    },
    {
      "cell_type": "code",
      "metadata": {
        "id": "0HVJuqOyKGAK",
        "colab_type": "code",
        "colab": {}
      },
      "source": [
        "g = h(x, v, w)\n",
        "labels = np.argmax(g, axis=1)"
      ],
      "execution_count": 0,
      "outputs": []
    },
    {
      "cell_type": "code",
      "metadata": {
        "id": "69TklVHzK22E",
        "colab_type": "code",
        "colab": {
          "base_uri": "https://localhost:8080/",
          "height": 914
        },
        "outputId": "972d02d9-7a73-4638-f6f4-814f1832fe2a"
      },
      "source": [
        "g"
      ],
      "execution_count": 43,
      "outputs": [
        {
          "output_type": "execute_result",
          "data": {
            "text/plain": [
              "array([[0.28999187, 0.71277712],\n",
              "       [0.82602652, 0.17176911],\n",
              "       [0.44035078, 0.56084843],\n",
              "       [0.69712481, 0.30112573],\n",
              "       [0.41397946, 0.587555  ],\n",
              "       [0.63570305, 0.36312171],\n",
              "       [0.34691138, 0.65535336],\n",
              "       [0.68178515, 0.31663273],\n",
              "       [0.44431994, 0.55684282],\n",
              "       [0.32853594, 0.67390378],\n",
              "       [0.81352306, 0.18423119],\n",
              "       [0.87034369, 0.12763055],\n",
              "       [0.72736349, 0.27070433],\n",
              "       [0.26399123, 0.73895429],\n",
              "       [0.2602131 , 0.74275479],\n",
              "       [0.65329711, 0.34536877],\n",
              "       [0.34419375, 0.65809432],\n",
              "       [0.84056485, 0.15724028],\n",
              "       [0.69124954, 0.30706041],\n",
              "       [0.59593778, 0.4033349 ],\n",
              "       [0.423121  , 0.57828937],\n",
              "       [0.3416382 , 0.66067507],\n",
              "       [0.72170522, 0.27636039],\n",
              "       [0.21822279, 0.78493248],\n",
              "       [0.75109433, 0.24686349],\n",
              "       [0.43216918, 0.569135  ],\n",
              "       [0.24958083, 0.75344612],\n",
              "       [0.28010303, 0.72273633],\n",
              "       [0.86004013, 0.13791433],\n",
              "       [0.57735837, 0.42215826],\n",
              "       [0.63929951, 0.35951432],\n",
              "       [0.79654858, 0.201223  ],\n",
              "       [0.77999267, 0.21779524],\n",
              "       [0.6740786 , 0.32437711],\n",
              "       [0.79929655, 0.1984587 ],\n",
              "       [0.75825587, 0.23965025],\n",
              "       [0.76806538, 0.22976625],\n",
              "       [0.57259854, 0.42696333],\n",
              "       [0.38450439, 0.61735902],\n",
              "       [0.72713525, 0.27089568],\n",
              "       [0.36663351, 0.63543037],\n",
              "       [0.85850274, 0.13938782],\n",
              "       [0.4101349 , 0.59143633],\n",
              "       [0.61097228, 0.38817432],\n",
              "       [0.64824104, 0.35045215],\n",
              "       [0.86815015, 0.12981309],\n",
              "       [0.71817644, 0.27999102],\n",
              "       [0.76223475, 0.23564039],\n",
              "       [0.30863623, 0.69398502],\n",
              "       [0.59657797, 0.40269552],\n",
              "       [0.28504872, 0.71775543]])"
            ]
          },
          "metadata": {
            "tags": []
          },
          "execution_count": 43
        }
      ]
    },
    {
      "cell_type": "code",
      "metadata": {
        "id": "kMUEHYwvLU-J",
        "colab_type": "code",
        "colab": {
          "base_uri": "https://localhost:8080/",
          "height": 70
        },
        "outputId": "a146a813-3da8-45f1-8528-e0582229e9c4"
      },
      "source": [
        "labels"
      ],
      "execution_count": 44,
      "outputs": [
        {
          "output_type": "execute_result",
          "data": {
            "text/plain": [
              "array([1, 0, 1, 0, 1, 0, 1, 0, 1, 1, 0, 0, 0, 1, 1, 0, 1, 0, 0, 0, 1, 1,\n",
              "       0, 1, 0, 1, 1, 1, 0, 0, 0, 0, 0, 0, 0, 0, 0, 0, 1, 0, 1, 0, 1, 0,\n",
              "       0, 0, 0, 0, 1, 0, 1])"
            ]
          },
          "metadata": {
            "tags": []
          },
          "execution_count": 44
        }
      ]
    },
    {
      "cell_type": "markdown",
      "metadata": {
        "id": "28k7aLk1LmAA",
        "colab_type": "text"
      },
      "source": [
        "### 6. Plot"
      ]
    },
    {
      "cell_type": "code",
      "metadata": {
        "id": "sOa9TvtJLVgG",
        "colab_type": "code",
        "colab": {}
      },
      "source": [
        "# 0: 파란색 점 1: 빨간색 점\n",
        "\n",
        "x_0 = x[labels==0]\n",
        "x_1 = x[labels==1]"
      ],
      "execution_count": 0,
      "outputs": []
    },
    {
      "cell_type": "code",
      "metadata": {
        "id": "7an-VHcXL83K",
        "colab_type": "code",
        "colab": {
          "base_uri": "https://localhost:8080/",
          "height": 281
        },
        "outputId": "7ea2a3e7-9cbc-459f-cf4b-a47dd897ecc1"
      },
      "source": [
        "plt.plot(x_0[:,0], x_0[:,1], 'b.', label='0')\n",
        "plt.plot(x_1[:,0], x_1[:,1], 'r.', label='1')\n",
        "plt.title('Plot predicted data')\n",
        "plt.legend()\n",
        "plt.show()"
      ],
      "execution_count": 59,
      "outputs": [
        {
          "output_type": "display_data",
          "data": {
            "image/png": "[encoded data removed]",
            "text/plain": [
              "<Figure size 432x288 with 1 Axes>"
            ]
          },
          "metadata": {
            "tags": [],
            "needs_background": "light"
          }
        }
      ]
    },
    {
      "cell_type": "code",
      "metadata": {
        "id": "SAYdXNwaMYnS",
        "colab_type": "code",
        "colab": {
          "base_uri": "https://localhost:8080/",
          "height": 281
        },
        "outputId": "14d18b31-5d83-4e4c-80c4-953243896017"
      },
      "source": [
        "labels_original = np.argmax(y, axis=1)\n",
        "x_0_original = x[labels_original==0]\n",
        "x_1_original = x[labels_original==1]\n",
        "\n",
        "plt.plot(x_0_original[:,0], x_0_original[:,1], 'b.', label='0')\n",
        "plt.plot(x_1_original[:,0], x_1_original[:,1], 'r.', label='1')\n",
        "plt.title('Plot Originial data')\n",
        "plt.legend()\n",
        "plt.show()"
      ],
      "execution_count": 60,
      "outputs": [
        {
          "output_type": "display_data",
          "data": {
            "image/png": "[encoded data removed]",
            "text/plain": [
              "<Figure size 432x288 with 1 Axes>"
            ]
          },
          "metadata": {
            "tags": [],
            "needs_background": "light"
          }
        }
      ]
    }
  ]
}