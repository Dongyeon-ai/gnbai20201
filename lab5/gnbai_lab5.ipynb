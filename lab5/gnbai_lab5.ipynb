{
  "nbformat": 4,
  "nbformat_minor": 0,
  "metadata": {
    "colab": {
      "name": "gnbai_lab5.ipynb",
      "provenance": [],
      "authorship_tag": "ABX9TyOpqCC26iVvMKYHKrx2cEG+",
      "include_colab_link": true
    },
    "kernelspec": {
      "name": "python3",
      "display_name": "Python 3"
    }
  },
  "cells": [
    {
      "cell_type": "markdown",
      "metadata": {
        "id": "view-in-github",
        "colab_type": "text"
      },
      "source": [
        "<a href=\"https://colab.research.google.com/github/yh08037/gnbai20201/blob/master/lab5/gnbai_lab5.ipynb\" target=\"_parent\"><img src=\"https://colab.research.google.com/assets/colab-badge.svg\" alt=\"Open In Colab\"/></a>"
      ]
    },
    {
      "cell_type": "code",
      "metadata": {
        "id": "y_vOkm0w4hQU",
        "colab_type": "code",
        "colab": {}
      },
      "source": [
        "import numpy as np\n",
        "import pandas as pd"
      ],
      "execution_count": null,
      "outputs": []
    },
    {
      "cell_type": "code",
      "metadata": {
        "id": "brUEeAOR6zs6",
        "colab_type": "code",
        "colab": {}
      },
      "source": [
        "def load_iris_data(split_rate=0.7):\n",
        "\n",
        "    # read file\n",
        "    path = \"/content/iris.csv\"\n",
        "    column_names = ['sepal_length', 'sepal_width', 'petal_length', 'petal_width', 'class']\n",
        "    data_pd = pd.read_csv(path, names=column_names)\n",
        "\n",
        "    # data_np = np.asarray(data_pd)\n",
        "    data_np = data_pd.values\n",
        "\n",
        "    # shuffle data\n",
        "    np.random.shuffle(data_np)\n",
        "\n",
        "    # define x\n",
        "    x = data_np[:, :4].astype(np.float)\n",
        "\n",
        "    # define y as one-hot encoding\n",
        "    names = ['Iris-setosa', 'Iris-versicolor', 'Iris-virginica']\n",
        "    labels = data_np[:, 4]\n",
        "    y = np.asarray([[name==label for name in names] for label in labels], dtype=np.int)\n",
        "\n",
        "    # train-test split\n",
        "    train_size = int(len(data_np) * split_rate)\n",
        "    test_size = len(data_np) - train_size\n",
        "\n",
        "    x_train = x[:train_size]\n",
        "    x_test  = x[-test_size:]\n",
        "\n",
        "    y_train = y[:train_size]\n",
        "    y_test  = y[-test_size:]\n",
        "\n",
        "    # clear memory\n",
        "    del data_pd, data_np, x, y, labels\n",
        "\n",
        "    return x_train, y_train, x_test, y_test"
      ],
      "execution_count": null,
      "outputs": []
    },
    {
      "cell_type": "code",
      "metadata": {
        "id": "4TTEiTt5CPd1",
        "colab_type": "code",
        "colab": {}
      },
      "source": [
        "x_train, y_train, x_test, y_test = load_iris_data()"
      ],
      "execution_count": null,
      "outputs": []
    },
    {
      "cell_type": "markdown",
      "metadata": {
        "id": "3bUKg5ArDkf6",
        "colab_type": "text"
      },
      "source": [
        "## 2. Tensorflow"
      ]
    },
    {
      "cell_type": "code",
      "metadata": {
        "id": "XmWlG0o_82i2",
        "colab_type": "code",
        "colab": {}
      },
      "source": [
        "import tensorflow as tf"
      ],
      "execution_count": null,
      "outputs": []
    },
    {
      "cell_type": "code",
      "metadata": {
        "id": "r2jzW4TzDyi7",
        "colab_type": "code",
        "colab": {
          "base_uri": "https://localhost:8080/",
          "height": 36
        },
        "outputId": "00127312-392c-4924-e42c-b6ce2e0a71de"
      },
      "source": [
        "tf.__version__"
      ],
      "execution_count": null,
      "outputs": [
        {
          "output_type": "execute_result",
          "data": {
            "text/plain": [
              "'2.2.0'"
            ]
          },
          "metadata": {
            "tags": []
          },
          "execution_count": 71
        }
      ]
    },
    {
      "cell_type": "code",
      "metadata": {
        "id": "OEw3DE5XD1kC",
        "colab_type": "code",
        "colab": {}
      },
      "source": [
        "model = tf.keras.models.Sequential([\n",
        "    tf.keras.layers.Dense(5, activation='relu', input_shape=(4,)),\n",
        "    tf.keras.layers.Dense(5, activation='relu'),\n",
        "    tf.keras.layers.Dense(3, activation='softmax')\n",
        "])"
      ],
      "execution_count": null,
      "outputs": []
    },
    {
      "cell_type": "code",
      "metadata": {
        "id": "8-m1nt0iGCtk",
        "colab_type": "code",
        "colab": {}
      },
      "source": [
        "# optimizer : 파라미터를 최적화하는 방법 (ex 경사하강법, 확률적 경사하강법, ...)\n",
        "# loss : 오차함수 error = 비용 cost = 손실 loss\n",
        "model.compile(optimizer='adam', loss='categorical_crossentropy', metrics=['accuracy'])"
      ],
      "execution_count": null,
      "outputs": []
    },
    {
      "cell_type": "code",
      "metadata": {
        "id": "0LGCDAxaLiDA",
        "colab_type": "code",
        "colab": {
          "base_uri": "https://localhost:8080/",
          "height": 369
        },
        "outputId": "f666c176-273b-4e5e-ffe2-2cbc5e0f4bf5"
      },
      "source": [
        "tf.keras.utils.plot_model(model)"
      ],
      "execution_count": null,
      "outputs": [
        {
          "output_type": "execute_result",
          "data": {
            "image/png": "[encoded data removed]",
            "text/plain": [
              "<IPython.core.display.Image object>"
            ]
          },
          "metadata": {
            "tags": []
          },
          "execution_count": 81
        }
      ]
    },
    {
      "cell_type": "code",
      "metadata": {
        "id": "PCUME79kLr-p",
        "colab_type": "code",
        "colab": {
          "base_uri": "https://localhost:8080/",
          "height": 279
        },
        "outputId": "e0bfce05-6189-4f7b-ac10-b52bd4b84faf"
      },
      "source": [
        "model.summary()"
      ],
      "execution_count": null,
      "outputs": [
        {
          "output_type": "stream",
          "text": [
            "Model: \"sequential_8\"\n",
            "_________________________________________________________________\n",
            "Layer (type)                 Output Shape              Param #   \n",
            "=================================================================\n",
            "dense_16 (Dense)             (None, 5)                 25        \n",
            "_________________________________________________________________\n",
            "dense_17 (Dense)             (None, 5)                 30        \n",
            "_________________________________________________________________\n",
            "dense_18 (Dense)             (None, 3)                 18        \n",
            "=================================================================\n",
            "Total params: 73\n",
            "Trainable params: 73\n",
            "Non-trainable params: 0\n",
            "_________________________________________________________________\n"
          ],
          "name": "stdout"
        }
      ]
    },
    {
      "cell_type": "code",
      "metadata": {
        "id": "w0afme2tIPNB",
        "colab_type": "code",
        "colab": {
          "base_uri": "https://localhost:8080/",
          "height": 1000
        },
        "outputId": "6f87396c-5253-4e7e-c448-aa5771525857"
      },
      "source": [
        "model.fit(x_train, y_train, epochs=100)"
      ],
      "execution_count": null,
      "outputs": [
        {
          "output_type": "stream",
          "text": [
            "Epoch 1/100\n",
            "4/4 [==============================] - 0s 3ms/step - loss: 3.5714 - accuracy: 0.3048\n",
            "Epoch 2/100\n",
            "4/4 [==============================] - 0s 2ms/step - loss: 3.4258 - accuracy: 0.3048\n",
            "Epoch 3/100\n",
            "4/4 [==============================] - 0s 2ms/step - loss: 3.2830 - accuracy: 0.3048\n",
            "Epoch 4/100\n",
            "4/4 [==============================] - 0s 2ms/step - loss: 3.1489 - accuracy: 0.3048\n",
            "Epoch 5/100\n",
            "4/4 [==============================] - 0s 2ms/step - loss: 3.0189 - accuracy: 0.3048\n",
            "Epoch 6/100\n",
            "4/4 [==============================] - 0s 2ms/step - loss: 2.8999 - accuracy: 0.3048\n",
            "Epoch 7/100\n",
            "4/4 [==============================] - 0s 1ms/step - loss: 2.7828 - accuracy: 0.3048\n",
            "Epoch 8/100\n",
            "4/4 [==============================] - 0s 2ms/step - loss: 2.6768 - accuracy: 0.3048\n",
            "Epoch 9/100\n",
            "4/4 [==============================] - 0s 2ms/step - loss: 2.5746 - accuracy: 0.3048\n",
            "Epoch 10/100\n",
            "4/4 [==============================] - 0s 2ms/step - loss: 2.4819 - accuracy: 0.3048\n",
            "Epoch 11/100\n",
            "4/4 [==============================] - 0s 1ms/step - loss: 2.3887 - accuracy: 0.3048\n",
            "Epoch 12/100\n",
            "4/4 [==============================] - 0s 2ms/step - loss: 2.3061 - accuracy: 0.3048\n",
            "Epoch 13/100\n",
            "4/4 [==============================] - 0s 1ms/step - loss: 2.2237 - accuracy: 0.3048\n",
            "Epoch 14/100\n",
            "4/4 [==============================] - 0s 1ms/step - loss: 2.1540 - accuracy: 0.3048\n",
            "Epoch 15/100\n",
            "4/4 [==============================] - 0s 2ms/step - loss: 2.0796 - accuracy: 0.3048\n",
            "Epoch 16/100\n",
            "4/4 [==============================] - 0s 1ms/step - loss: 2.0165 - accuracy: 0.3048\n",
            "Epoch 17/100\n",
            "4/4 [==============================] - 0s 1ms/step - loss: 1.9551 - accuracy: 0.3048\n",
            "Epoch 18/100\n",
            "4/4 [==============================] - 0s 2ms/step - loss: 1.8962 - accuracy: 0.3048\n",
            "Epoch 19/100\n",
            "4/4 [==============================] - 0s 2ms/step - loss: 1.8435 - accuracy: 0.3048\n",
            "Epoch 20/100\n",
            "4/4 [==============================] - 0s 2ms/step - loss: 1.7925 - accuracy: 0.3048\n",
            "Epoch 21/100\n",
            "4/4 [==============================] - 0s 2ms/step - loss: 1.7433 - accuracy: 0.3048\n",
            "Epoch 22/100\n",
            "4/4 [==============================] - 0s 1ms/step - loss: 1.6983 - accuracy: 0.3048\n",
            "Epoch 23/100\n",
            "4/4 [==============================] - 0s 2ms/step - loss: 1.6555 - accuracy: 0.3048\n",
            "Epoch 24/100\n",
            "4/4 [==============================] - 0s 2ms/step - loss: 1.6157 - accuracy: 0.3048\n",
            "Epoch 25/100\n",
            "4/4 [==============================] - 0s 2ms/step - loss: 1.5783 - accuracy: 0.3048\n",
            "Epoch 26/100\n",
            "4/4 [==============================] - 0s 2ms/step - loss: 1.5414 - accuracy: 0.3048\n",
            "Epoch 27/100\n",
            "4/4 [==============================] - 0s 2ms/step - loss: 1.5082 - accuracy: 0.3048\n",
            "Epoch 28/100\n",
            "4/4 [==============================] - 0s 2ms/step - loss: 1.4766 - accuracy: 0.3048\n",
            "Epoch 29/100\n",
            "4/4 [==============================] - 0s 2ms/step - loss: 1.4448 - accuracy: 0.3048\n",
            "Epoch 30/100\n",
            "4/4 [==============================] - 0s 2ms/step - loss: 1.4158 - accuracy: 0.3048\n",
            "Epoch 31/100\n",
            "4/4 [==============================] - 0s 1ms/step - loss: 1.3883 - accuracy: 0.3048\n",
            "Epoch 32/100\n",
            "4/4 [==============================] - 0s 1ms/step - loss: 1.3624 - accuracy: 0.3048\n",
            "Epoch 33/100\n",
            "4/4 [==============================] - 0s 2ms/step - loss: 1.3370 - accuracy: 0.3048\n",
            "Epoch 34/100\n",
            "4/4 [==============================] - 0s 1ms/step - loss: 1.3129 - accuracy: 0.3048\n",
            "Epoch 35/100\n",
            "4/4 [==============================] - 0s 2ms/step - loss: 1.2883 - accuracy: 0.3048\n",
            "Epoch 36/100\n",
            "4/4 [==============================] - 0s 2ms/step - loss: 1.2654 - accuracy: 0.3429\n",
            "Epoch 37/100\n",
            "4/4 [==============================] - 0s 2ms/step - loss: 1.2430 - accuracy: 0.4000\n",
            "Epoch 38/100\n",
            "4/4 [==============================] - 0s 1ms/step - loss: 1.2197 - accuracy: 0.4190\n",
            "Epoch 39/100\n",
            "4/4 [==============================] - 0s 2ms/step - loss: 1.1995 - accuracy: 0.4762\n",
            "Epoch 40/100\n",
            "4/4 [==============================] - 0s 1ms/step - loss: 1.1788 - accuracy: 0.5333\n",
            "Epoch 41/100\n",
            "4/4 [==============================] - 0s 1ms/step - loss: 1.1589 - accuracy: 0.5429\n",
            "Epoch 42/100\n",
            "4/4 [==============================] - 0s 2ms/step - loss: 1.1391 - accuracy: 0.5810\n",
            "Epoch 43/100\n",
            "4/4 [==============================] - 0s 2ms/step - loss: 1.1207 - accuracy: 0.5905\n",
            "Epoch 44/100\n",
            "4/4 [==============================] - 0s 2ms/step - loss: 1.1014 - accuracy: 0.5905\n",
            "Epoch 45/100\n",
            "4/4 [==============================] - 0s 2ms/step - loss: 1.0837 - accuracy: 0.6000\n",
            "Epoch 46/100\n",
            "4/4 [==============================] - 0s 2ms/step - loss: 1.0648 - accuracy: 0.6000\n",
            "Epoch 47/100\n",
            "4/4 [==============================] - 0s 1ms/step - loss: 1.0486 - accuracy: 0.6000\n",
            "Epoch 48/100\n",
            "4/4 [==============================] - 0s 2ms/step - loss: 1.0316 - accuracy: 0.6000\n",
            "Epoch 49/100\n",
            "4/4 [==============================] - 0s 1ms/step - loss: 1.0146 - accuracy: 0.6095\n",
            "Epoch 50/100\n",
            "4/4 [==============================] - 0s 2ms/step - loss: 0.9993 - accuracy: 0.6095\n",
            "Epoch 51/100\n",
            "4/4 [==============================] - 0s 2ms/step - loss: 0.9833 - accuracy: 0.6095\n",
            "Epoch 52/100\n",
            "4/4 [==============================] - 0s 2ms/step - loss: 0.9672 - accuracy: 0.6286\n",
            "Epoch 53/100\n",
            "4/4 [==============================] - 0s 1ms/step - loss: 0.9520 - accuracy: 0.6286\n",
            "Epoch 54/100\n",
            "4/4 [==============================] - 0s 2ms/step - loss: 0.9379 - accuracy: 0.6190\n",
            "Epoch 55/100\n",
            "4/4 [==============================] - 0s 2ms/step - loss: 0.9225 - accuracy: 0.6286\n",
            "Epoch 56/100\n",
            "4/4 [==============================] - 0s 2ms/step - loss: 0.9091 - accuracy: 0.6286\n",
            "Epoch 57/100\n",
            "4/4 [==============================] - 0s 2ms/step - loss: 0.8940 - accuracy: 0.6286\n",
            "Epoch 58/100\n",
            "4/4 [==============================] - 0s 2ms/step - loss: 0.8804 - accuracy: 0.6381\n",
            "Epoch 59/100\n",
            "4/4 [==============================] - 0s 2ms/step - loss: 0.8666 - accuracy: 0.6381\n",
            "Epoch 60/100\n",
            "4/4 [==============================] - 0s 2ms/step - loss: 0.8527 - accuracy: 0.6286\n",
            "Epoch 61/100\n",
            "4/4 [==============================] - 0s 1ms/step - loss: 0.8394 - accuracy: 0.6190\n",
            "Epoch 62/100\n",
            "4/4 [==============================] - 0s 2ms/step - loss: 0.8265 - accuracy: 0.6190\n",
            "Epoch 63/100\n",
            "4/4 [==============================] - 0s 2ms/step - loss: 0.8140 - accuracy: 0.6190\n",
            "Epoch 64/100\n",
            "4/4 [==============================] - 0s 2ms/step - loss: 0.8024 - accuracy: 0.6286\n",
            "Epoch 65/100\n",
            "4/4 [==============================] - 0s 2ms/step - loss: 0.7927 - accuracy: 0.6476\n",
            "Epoch 66/100\n",
            "4/4 [==============================] - 0s 2ms/step - loss: 0.7835 - accuracy: 0.6571\n",
            "Epoch 67/100\n",
            "4/4 [==============================] - 0s 2ms/step - loss: 0.7741 - accuracy: 0.6571\n",
            "Epoch 68/100\n",
            "4/4 [==============================] - 0s 1ms/step - loss: 0.7659 - accuracy: 0.6571\n",
            "Epoch 69/100\n",
            "4/4 [==============================] - 0s 2ms/step - loss: 0.7573 - accuracy: 0.6571\n",
            "Epoch 70/100\n",
            "4/4 [==============================] - 0s 2ms/step - loss: 0.7490 - accuracy: 0.6571\n",
            "Epoch 71/100\n",
            "4/4 [==============================] - 0s 2ms/step - loss: 0.7410 - accuracy: 0.6571\n",
            "Epoch 72/100\n",
            "4/4 [==============================] - 0s 2ms/step - loss: 0.7331 - accuracy: 0.6571\n",
            "Epoch 73/100\n",
            "4/4 [==============================] - 0s 2ms/step - loss: 0.7251 - accuracy: 0.6571\n",
            "Epoch 74/100\n",
            "4/4 [==============================] - 0s 2ms/step - loss: 0.7174 - accuracy: 0.6571\n",
            "Epoch 75/100\n",
            "4/4 [==============================] - 0s 2ms/step - loss: 0.7094 - accuracy: 0.6571\n",
            "Epoch 76/100\n",
            "4/4 [==============================] - 0s 2ms/step - loss: 0.7018 - accuracy: 0.6571\n",
            "Epoch 77/100\n",
            "4/4 [==============================] - 0s 2ms/step - loss: 0.6938 - accuracy: 0.6571\n",
            "Epoch 78/100\n",
            "4/4 [==============================] - 0s 2ms/step - loss: 0.6862 - accuracy: 0.6571\n",
            "Epoch 79/100\n",
            "4/4 [==============================] - 0s 2ms/step - loss: 0.6791 - accuracy: 0.6571\n",
            "Epoch 80/100\n",
            "4/4 [==============================] - 0s 2ms/step - loss: 0.6718 - accuracy: 0.7714\n",
            "Epoch 81/100\n",
            "4/4 [==============================] - 0s 2ms/step - loss: 0.6640 - accuracy: 0.8571\n",
            "Epoch 82/100\n",
            "4/4 [==============================] - 0s 2ms/step - loss: 0.6571 - accuracy: 0.8667\n",
            "Epoch 83/100\n",
            "4/4 [==============================] - 0s 2ms/step - loss: 0.6497 - accuracy: 0.9143\n",
            "Epoch 84/100\n",
            "4/4 [==============================] - 0s 2ms/step - loss: 0.6419 - accuracy: 0.9333\n",
            "Epoch 85/100\n",
            "4/4 [==============================] - 0s 2ms/step - loss: 0.6347 - accuracy: 0.9333\n",
            "Epoch 86/100\n",
            "4/4 [==============================] - 0s 2ms/step - loss: 0.6276 - accuracy: 0.9238\n",
            "Epoch 87/100\n",
            "4/4 [==============================] - 0s 2ms/step - loss: 0.6203 - accuracy: 0.9333\n",
            "Epoch 88/100\n",
            "4/4 [==============================] - 0s 2ms/step - loss: 0.6132 - accuracy: 0.9524\n",
            "Epoch 89/100\n",
            "4/4 [==============================] - 0s 2ms/step - loss: 0.6059 - accuracy: 0.9524\n",
            "Epoch 90/100\n",
            "4/4 [==============================] - 0s 2ms/step - loss: 0.5986 - accuracy: 0.9524\n",
            "Epoch 91/100\n",
            "4/4 [==============================] - 0s 2ms/step - loss: 0.5917 - accuracy: 0.9524\n",
            "Epoch 92/100\n",
            "4/4 [==============================] - 0s 2ms/step - loss: 0.5853 - accuracy: 0.9429\n",
            "Epoch 93/100\n",
            "4/4 [==============================] - 0s 2ms/step - loss: 0.5779 - accuracy: 0.9524\n",
            "Epoch 94/100\n",
            "4/4 [==============================] - 0s 1ms/step - loss: 0.5709 - accuracy: 0.9524\n",
            "Epoch 95/100\n",
            "4/4 [==============================] - 0s 2ms/step - loss: 0.5636 - accuracy: 0.9429\n",
            "Epoch 96/100\n",
            "4/4 [==============================] - 0s 2ms/step - loss: 0.5568 - accuracy: 0.9429\n",
            "Epoch 97/100\n",
            "4/4 [==============================] - 0s 1ms/step - loss: 0.5499 - accuracy: 0.9524\n",
            "Epoch 98/100\n",
            "4/4 [==============================] - 0s 2ms/step - loss: 0.5432 - accuracy: 0.9524\n",
            "Epoch 99/100\n",
            "4/4 [==============================] - 0s 2ms/step - loss: 0.5363 - accuracy: 0.9524\n",
            "Epoch 100/100\n",
            "4/4 [==============================] - 0s 2ms/step - loss: 0.5304 - accuracy: 0.9429\n"
          ],
          "name": "stdout"
        },
        {
          "output_type": "execute_result",
          "data": {
            "text/plain": [
              "<tensorflow.python.keras.callbacks.History at 0x7f47c03bf128>"
            ]
          },
          "metadata": {
            "tags": []
          },
          "execution_count": 79
        }
      ]
    },
    {
      "cell_type": "code",
      "metadata": {
        "id": "NQv3AjCFIVzz",
        "colab_type": "code",
        "colab": {
          "base_uri": "https://localhost:8080/",
          "height": 55
        },
        "outputId": "6aff0c07-e68b-4580-d6cb-d46cfb7f87d0"
      },
      "source": [
        "model.evaluate(x_test, y_test)"
      ],
      "execution_count": null,
      "outputs": [
        {
          "output_type": "stream",
          "text": [
            "2/2 [==============================] - 0s 2ms/step - loss: 0.4653 - accuracy: 0.9556\n"
          ],
          "name": "stdout"
        },
        {
          "output_type": "execute_result",
          "data": {
            "text/plain": [
              "[0.4653421938419342, 0.9555555582046509]"
            ]
          },
          "metadata": {
            "tags": []
          },
          "execution_count": 80
        }
      ]
    }
  ]
}