{
  "nbformat": 4,
  "nbformat_minor": 0,
  "metadata": {
    "colab": {
      "name": "gnbai_lab3_Leejk.ipynb",
      "provenance": [],
      "collapsed_sections": [],
      "authorship_tag": "ABX9TyOX6y9bn3H6W5j6QnEHL1y1",
      "include_colab_link": true
    },
    "kernelspec": {
      "name": "python3",
      "display_name": "Python 3"
    }
  },
  "cells": [
    {
      "cell_type": "markdown",
      "metadata": {
        "id": "view-in-github",
        "colab_type": "text"
      },
      "source": [
        "<a href=\"https://colab.research.google.com/github/leuoo/gnbai20201/blob/master/lab3/Leejk/gnbai_lab3_Leejk.ipynb\" target=\"_parent\"><img src=\"https://colab.research.google.com/assets/colab-badge.svg\" alt=\"Open In Colab\"/></a>"
      ]
    },
    {
      "cell_type": "code",
      "metadata": {
        "id": "u85M9UV38m8R",
        "colab_type": "code",
        "colab": {}
      },
      "source": [
        "# GNB AI 프로젝트 4주차 실습\n",
        "# MLP\n",
        "\n",
        "## 1.Imports\n",
        "\n",
        "import numpy as np\n",
        "import pandas as pd\n",
        "import matplotlib.pyplot as plt"
      ],
      "execution_count": 0,
      "outputs": []
    },
    {
      "cell_type": "code",
      "metadata": {
        "id": "u5OSFIQx9nRf",
        "colab_type": "code",
        "colab": {
          "base_uri": "https://localhost:8080/",
          "height": 1000
        },
        "outputId": "c352fa38-994a-4e74-9838-12434db55be9"
      },
      "source": [
        "## 2.Load data\n",
        "columns = ['x1', 'x2', 'y']\n",
        "data=pd.read_csv(\"/content/data_lab3.txt\", names=columns, sep=' ')\n",
        "data\n"
      ],
      "execution_count": 82,
      "outputs": [
        {
          "output_type": "execute_result",
          "data": {
            "text/html": [
              "<div>\n",
              "<style scoped>\n",
              "    .dataframe tbody tr th:only-of-type {\n",
              "        vertical-align: middle;\n",
              "    }\n",
              "\n",
              "    .dataframe tbody tr th {\n",
              "        vertical-align: top;\n",
              "    }\n",
              "\n",
              "    .dataframe thead th {\n",
              "        text-align: right;\n",
              "    }\n",
              "</style>\n",
              "<table border=\"1\" class=\"dataframe\">\n",
              "  <thead>\n",
              "    <tr style=\"text-align: right;\">\n",
              "      <th></th>\n",
              "      <th>x1</th>\n",
              "      <th>x2</th>\n",
              "      <th>y</th>\n",
              "    </tr>\n",
              "  </thead>\n",
              "  <tbody>\n",
              "    <tr>\n",
              "      <th>0</th>\n",
              "      <td>1.964300</td>\n",
              "      <td>4.5957</td>\n",
              "      <td>1</td>\n",
              "    </tr>\n",
              "    <tr>\n",
              "      <th>1</th>\n",
              "      <td>2.275300</td>\n",
              "      <td>3.8589</td>\n",
              "      <td>1</td>\n",
              "    </tr>\n",
              "    <tr>\n",
              "      <th>2</th>\n",
              "      <td>2.978100</td>\n",
              "      <td>4.5651</td>\n",
              "      <td>1</td>\n",
              "    </tr>\n",
              "    <tr>\n",
              "      <th>3</th>\n",
              "      <td>2.932000</td>\n",
              "      <td>3.5519</td>\n",
              "      <td>1</td>\n",
              "    </tr>\n",
              "    <tr>\n",
              "      <th>4</th>\n",
              "      <td>3.577200</td>\n",
              "      <td>2.8560</td>\n",
              "      <td>1</td>\n",
              "    </tr>\n",
              "    <tr>\n",
              "      <th>5</th>\n",
              "      <td>4.015000</td>\n",
              "      <td>3.1937</td>\n",
              "      <td>1</td>\n",
              "    </tr>\n",
              "    <tr>\n",
              "      <th>6</th>\n",
              "      <td>3.381400</td>\n",
              "      <td>3.4291</td>\n",
              "      <td>1</td>\n",
              "    </tr>\n",
              "    <tr>\n",
              "      <th>7</th>\n",
              "      <td>3.911300</td>\n",
              "      <td>4.1761</td>\n",
              "      <td>1</td>\n",
              "    </tr>\n",
              "    <tr>\n",
              "      <th>8</th>\n",
              "      <td>2.782200</td>\n",
              "      <td>4.0431</td>\n",
              "      <td>1</td>\n",
              "    </tr>\n",
              "    <tr>\n",
              "      <th>9</th>\n",
              "      <td>2.551800</td>\n",
              "      <td>4.6162</td>\n",
              "      <td>1</td>\n",
              "    </tr>\n",
              "    <tr>\n",
              "      <th>10</th>\n",
              "      <td>3.369800</td>\n",
              "      <td>3.9101</td>\n",
              "      <td>1</td>\n",
              "    </tr>\n",
              "    <tr>\n",
              "      <th>11</th>\n",
              "      <td>3.104800</td>\n",
              "      <td>3.0709</td>\n",
              "      <td>1</td>\n",
              "    </tr>\n",
              "    <tr>\n",
              "      <th>12</th>\n",
              "      <td>1.918200</td>\n",
              "      <td>4.0534</td>\n",
              "      <td>1</td>\n",
              "    </tr>\n",
              "    <tr>\n",
              "      <th>13</th>\n",
              "      <td>2.263800</td>\n",
              "      <td>4.3706</td>\n",
              "      <td>1</td>\n",
              "    </tr>\n",
              "    <tr>\n",
              "      <th>14</th>\n",
              "      <td>2.655500</td>\n",
              "      <td>3.5008</td>\n",
              "      <td>1</td>\n",
              "    </tr>\n",
              "    <tr>\n",
              "      <th>15</th>\n",
              "      <td>3.185500</td>\n",
              "      <td>4.2888</td>\n",
              "      <td>1</td>\n",
              "    </tr>\n",
              "    <tr>\n",
              "      <th>16</th>\n",
              "      <td>3.657900</td>\n",
              "      <td>3.8692</td>\n",
              "      <td>1</td>\n",
              "    </tr>\n",
              "    <tr>\n",
              "      <th>17</th>\n",
              "      <td>3.911300</td>\n",
              "      <td>3.4291</td>\n",
              "      <td>1</td>\n",
              "    </tr>\n",
              "    <tr>\n",
              "      <th>18</th>\n",
              "      <td>3.600200</td>\n",
              "      <td>3.1221</td>\n",
              "      <td>1</td>\n",
              "    </tr>\n",
              "    <tr>\n",
              "      <th>19</th>\n",
              "      <td>3.035700</td>\n",
              "      <td>3.3165</td>\n",
              "      <td>1</td>\n",
              "    </tr>\n",
              "    <tr>\n",
              "      <th>20</th>\n",
              "      <td>1.584100</td>\n",
              "      <td>3.3575</td>\n",
              "      <td>0</td>\n",
              "    </tr>\n",
              "    <tr>\n",
              "      <th>21</th>\n",
              "      <td>2.010300</td>\n",
              "      <td>3.2039</td>\n",
              "      <td>0</td>\n",
              "    </tr>\n",
              "    <tr>\n",
              "      <th>22</th>\n",
              "      <td>1.952700</td>\n",
              "      <td>2.7843</td>\n",
              "      <td>0</td>\n",
              "    </tr>\n",
              "    <tr>\n",
              "      <th>23</th>\n",
              "      <td>2.275300</td>\n",
              "      <td>2.7127</td>\n",
              "      <td>0</td>\n",
              "    </tr>\n",
              "    <tr>\n",
              "      <th>24</th>\n",
              "      <td>2.309900</td>\n",
              "      <td>2.9584</td>\n",
              "      <td>0</td>\n",
              "    </tr>\n",
              "    <tr>\n",
              "      <th>25</th>\n",
              "      <td>2.828300</td>\n",
              "      <td>2.6309</td>\n",
              "      <td>0</td>\n",
              "    </tr>\n",
              "    <tr>\n",
              "      <th>26</th>\n",
              "      <td>3.047300</td>\n",
              "      <td>2.2931</td>\n",
              "      <td>0</td>\n",
              "    </tr>\n",
              "    <tr>\n",
              "      <th>27</th>\n",
              "      <td>2.482700</td>\n",
              "      <td>2.0373</td>\n",
              "      <td>0</td>\n",
              "    </tr>\n",
              "    <tr>\n",
              "      <th>28</th>\n",
              "      <td>2.505700</td>\n",
              "      <td>2.3853</td>\n",
              "      <td>0</td>\n",
              "    </tr>\n",
              "    <tr>\n",
              "      <th>29</th>\n",
              "      <td>1.872100</td>\n",
              "      <td>2.0577</td>\n",
              "      <td>0</td>\n",
              "    </tr>\n",
              "    <tr>\n",
              "      <th>30</th>\n",
              "      <td>2.010300</td>\n",
              "      <td>2.3546</td>\n",
              "      <td>0</td>\n",
              "    </tr>\n",
              "    <tr>\n",
              "      <th>31</th>\n",
              "      <td>1.226900</td>\n",
              "      <td>2.3239</td>\n",
              "      <td>0</td>\n",
              "    </tr>\n",
              "    <tr>\n",
              "      <th>32</th>\n",
              "      <td>1.895100</td>\n",
              "      <td>2.9174</td>\n",
              "      <td>0</td>\n",
              "    </tr>\n",
              "    <tr>\n",
              "      <th>33</th>\n",
              "      <td>1.561000</td>\n",
              "      <td>3.0709</td>\n",
              "      <td>0</td>\n",
              "    </tr>\n",
              "    <tr>\n",
              "      <th>34</th>\n",
              "      <td>1.549500</td>\n",
              "      <td>2.6923</td>\n",
              "      <td>0</td>\n",
              "    </tr>\n",
              "    <tr>\n",
              "      <th>35</th>\n",
              "      <td>1.687800</td>\n",
              "      <td>2.4057</td>\n",
              "      <td>0</td>\n",
              "    </tr>\n",
              "    <tr>\n",
              "      <th>36</th>\n",
              "      <td>1.491900</td>\n",
              "      <td>2.0271</td>\n",
              "      <td>0</td>\n",
              "    </tr>\n",
              "    <tr>\n",
              "      <th>37</th>\n",
              "      <td>0.962000</td>\n",
              "      <td>2.6820</td>\n",
              "      <td>0</td>\n",
              "    </tr>\n",
              "    <tr>\n",
              "      <th>38</th>\n",
              "      <td>1.169300</td>\n",
              "      <td>2.9276</td>\n",
              "      <td>0</td>\n",
              "    </tr>\n",
              "    <tr>\n",
              "      <th>39</th>\n",
              "      <td>0.812200</td>\n",
              "      <td>2.9992</td>\n",
              "      <td>0</td>\n",
              "    </tr>\n",
              "    <tr>\n",
              "      <th>40</th>\n",
              "      <td>0.973500</td>\n",
              "      <td>3.3881</td>\n",
              "      <td>0</td>\n",
              "    </tr>\n",
              "    <tr>\n",
              "      <th>41</th>\n",
              "      <td>1.250000</td>\n",
              "      <td>3.1937</td>\n",
              "      <td>0</td>\n",
              "    </tr>\n",
              "    <tr>\n",
              "      <th>42</th>\n",
              "      <td>1.319100</td>\n",
              "      <td>3.5109</td>\n",
              "      <td>0</td>\n",
              "    </tr>\n",
              "    <tr>\n",
              "      <th>43</th>\n",
              "      <td>2.229200</td>\n",
              "      <td>2.2010</td>\n",
              "      <td>0</td>\n",
              "    </tr>\n",
              "    <tr>\n",
              "      <th>44</th>\n",
              "      <td>2.448200</td>\n",
              "      <td>2.6411</td>\n",
              "      <td>0</td>\n",
              "    </tr>\n",
              "    <tr>\n",
              "      <th>45</th>\n",
              "      <td>2.793800</td>\n",
              "      <td>1.9656</td>\n",
              "      <td>0</td>\n",
              "    </tr>\n",
              "    <tr>\n",
              "      <th>46</th>\n",
              "      <td>2.091000</td>\n",
              "      <td>1.6177</td>\n",
              "      <td>0</td>\n",
              "    </tr>\n",
              "    <tr>\n",
              "      <th>47</th>\n",
              "      <td>2.540300</td>\n",
              "      <td>2.8867</td>\n",
              "      <td>0</td>\n",
              "    </tr>\n",
              "    <tr>\n",
              "      <th>48</th>\n",
              "      <td>0.904400</td>\n",
              "      <td>3.0198</td>\n",
              "      <td>0</td>\n",
              "    </tr>\n",
              "    <tr>\n",
              "      <th>49</th>\n",
              "      <td>0.766150</td>\n",
              "      <td>2.5899</td>\n",
              "      <td>0</td>\n",
              "    </tr>\n",
              "    <tr>\n",
              "      <th>50</th>\n",
              "      <td>0.086405</td>\n",
              "      <td>4.1045</td>\n",
              "      <td>1</td>\n",
              "    </tr>\n",
              "  </tbody>\n",
              "</table>\n",
              "</div>"
            ],
            "text/plain": [
              "          x1      x2  y\n",
              "0   1.964300  4.5957  1\n",
              "1   2.275300  3.8589  1\n",
              "2   2.978100  4.5651  1\n",
              "3   2.932000  3.5519  1\n",
              "4   3.577200  2.8560  1\n",
              "5   4.015000  3.1937  1\n",
              "6   3.381400  3.4291  1\n",
              "7   3.911300  4.1761  1\n",
              "8   2.782200  4.0431  1\n",
              "9   2.551800  4.6162  1\n",
              "10  3.369800  3.9101  1\n",
              "11  3.104800  3.0709  1\n",
              "12  1.918200  4.0534  1\n",
              "13  2.263800  4.3706  1\n",
              "14  2.655500  3.5008  1\n",
              "15  3.185500  4.2888  1\n",
              "16  3.657900  3.8692  1\n",
              "17  3.911300  3.4291  1\n",
              "18  3.600200  3.1221  1\n",
              "19  3.035700  3.3165  1\n",
              "20  1.584100  3.3575  0\n",
              "21  2.010300  3.2039  0\n",
              "22  1.952700  2.7843  0\n",
              "23  2.275300  2.7127  0\n",
              "24  2.309900  2.9584  0\n",
              "25  2.828300  2.6309  0\n",
              "26  3.047300  2.2931  0\n",
              "27  2.482700  2.0373  0\n",
              "28  2.505700  2.3853  0\n",
              "29  1.872100  2.0577  0\n",
              "30  2.010300  2.3546  0\n",
              "31  1.226900  2.3239  0\n",
              "32  1.895100  2.9174  0\n",
              "33  1.561000  3.0709  0\n",
              "34  1.549500  2.6923  0\n",
              "35  1.687800  2.4057  0\n",
              "36  1.491900  2.0271  0\n",
              "37  0.962000  2.6820  0\n",
              "38  1.169300  2.9276  0\n",
              "39  0.812200  2.9992  0\n",
              "40  0.973500  3.3881  0\n",
              "41  1.250000  3.1937  0\n",
              "42  1.319100  3.5109  0\n",
              "43  2.229200  2.2010  0\n",
              "44  2.448200  2.6411  0\n",
              "45  2.793800  1.9656  0\n",
              "46  2.091000  1.6177  0\n",
              "47  2.540300  2.8867  0\n",
              "48  0.904400  3.0198  0\n",
              "49  0.766150  2.5899  0\n",
              "50  0.086405  4.1045  1"
            ]
          },
          "metadata": {
            "tags": []
          },
          "execution_count": 82
        }
      ]
    },
    {
      "cell_type": "code",
      "metadata": {
        "id": "XVBsT9nE8_DX",
        "colab_type": "code",
        "colab": {
          "base_uri": "https://localhost:8080/",
          "height": 70
        },
        "outputId": "8515b438-9de3-41fd-eaab-b9bd93e77259"
      },
      "source": [
        "### 3. Define x  ((순전파 : Forward propagation))\n",
        "\n",
        "data_np=np.asarray(data)\n",
        "\n",
        "# shuffle data\n",
        "np.random.shuffle(data_np)\n",
        "\n",
        "#define x\n",
        "x=data_np[:, :2]  \n",
        "\n",
        "#define y\n",
        "labels=data_np[:, 2].astype(np.int)\n",
        "y=np.identity(2)[labels]\n",
        "\n",
        "labels"
      ],
      "execution_count": 83,
      "outputs": [
        {
          "output_type": "execute_result",
          "data": {
            "text/plain": [
              "array([0, 0, 1, 0, 1, 0, 0, 1, 0, 1, 1, 1, 0, 0, 1, 1, 0, 0, 0, 0, 1, 1,\n",
              "       0, 0, 0, 0, 0, 0, 0, 0, 1, 1, 1, 0, 1, 1, 0, 0, 1, 1, 0, 0, 0, 1,\n",
              "       0, 0, 1, 0, 0, 1, 1])"
            ]
          },
          "metadata": {
            "tags": []
          },
          "execution_count": 83
        }
      ]
    },
    {
      "cell_type": "code",
      "metadata": {
        "id": "ajzQsWYpAkdw",
        "colab_type": "code",
        "colab": {
          "base_uri": "https://localhost:8080/",
          "height": 914
        },
        "outputId": "b63e5bc8-ab1a-40b4-8dbe-ca26a8e515a7"
      },
      "source": [
        "y"
      ],
      "execution_count": 84,
      "outputs": [
        {
          "output_type": "execute_result",
          "data": {
            "text/plain": [
              "array([[1., 0.],\n",
              "       [1., 0.],\n",
              "       [0., 1.],\n",
              "       [1., 0.],\n",
              "       [0., 1.],\n",
              "       [1., 0.],\n",
              "       [1., 0.],\n",
              "       [0., 1.],\n",
              "       [1., 0.],\n",
              "       [0., 1.],\n",
              "       [0., 1.],\n",
              "       [0., 1.],\n",
              "       [1., 0.],\n",
              "       [1., 0.],\n",
              "       [0., 1.],\n",
              "       [0., 1.],\n",
              "       [1., 0.],\n",
              "       [1., 0.],\n",
              "       [1., 0.],\n",
              "       [1., 0.],\n",
              "       [0., 1.],\n",
              "       [0., 1.],\n",
              "       [1., 0.],\n",
              "       [1., 0.],\n",
              "       [1., 0.],\n",
              "       [1., 0.],\n",
              "       [1., 0.],\n",
              "       [1., 0.],\n",
              "       [1., 0.],\n",
              "       [1., 0.],\n",
              "       [0., 1.],\n",
              "       [0., 1.],\n",
              "       [0., 1.],\n",
              "       [1., 0.],\n",
              "       [0., 1.],\n",
              "       [0., 1.],\n",
              "       [1., 0.],\n",
              "       [1., 0.],\n",
              "       [0., 1.],\n",
              "       [0., 1.],\n",
              "       [1., 0.],\n",
              "       [1., 0.],\n",
              "       [1., 0.],\n",
              "       [0., 1.],\n",
              "       [1., 0.],\n",
              "       [1., 0.],\n",
              "       [0., 1.],\n",
              "       [1., 0.],\n",
              "       [1., 0.],\n",
              "       [0., 1.],\n",
              "       [0., 1.]])"
            ]
          },
          "metadata": {
            "tags": []
          },
          "execution_count": 84
        }
      ]
    },
    {
      "cell_type": "code",
      "metadata": {
        "id": "FaQtvEROAnj-",
        "colab_type": "code",
        "colab": {}
      },
      "source": [
        "#define I, N, J, K\n",
        "\n",
        "I, N = x.shape  #unpacking\n",
        "J = y.shape[1]\n",
        "K = 5\n"
      ],
      "execution_count": 0,
      "outputs": []
    },
    {
      "cell_type": "code",
      "metadata": {
        "id": "SDT7BGm9BK0W",
        "colab_type": "code",
        "colab": {}
      },
      "source": [
        "# x_bar\n",
        "x_bar = np.hstack((np.ones((I, 1)),x)) # 원본 data 안 바뀜\n",
        "\n",
        "#initialize parameters  ... v , w  ((다층 퍼셉트론의 가중치들))\n",
        "v = np.random.rand(N+1, K)\n",
        "w = np.random.rand(K+1, J)\n"
      ],
      "execution_count": 0,
      "outputs": []
    },
    {
      "cell_type": "code",
      "metadata": {
        "id": "goj-aCo4CwSu",
        "colab_type": "code",
        "colab": {
          "base_uri": "https://localhost:8080/",
          "height": 70
        },
        "outputId": "27e0c750-2c47-4334-c93a-b10a432f5001"
      },
      "source": [
        "v"
      ],
      "execution_count": 87,
      "outputs": [
        {
          "output_type": "execute_result",
          "data": {
            "text/plain": [
              "array([[0.66196811, 0.56379117, 0.76370137, 0.84416622, 0.55372047],\n",
              "       [0.60758776, 0.7718191 , 0.64032109, 0.89283961, 0.67002013],\n",
              "       [0.19043052, 0.54150943, 0.17097929, 0.69101257, 0.44946041]])"
            ]
          },
          "metadata": {
            "tags": []
          },
          "execution_count": 87
        }
      ]
    },
    {
      "cell_type": "code",
      "metadata": {
        "id": "SM1kUsqDCyF1",
        "colab_type": "code",
        "colab": {
          "base_uri": "https://localhost:8080/",
          "height": 122
        },
        "outputId": "7def7bf5-4cc2-4688-9a53-347e4dd07fb1"
      },
      "source": [
        "w"
      ],
      "execution_count": 88,
      "outputs": [
        {
          "output_type": "execute_result",
          "data": {
            "text/plain": [
              "array([[0.35248312, 0.01279173],\n",
              "       [0.44095518, 0.82732403],\n",
              "       [0.99751413, 0.30242752],\n",
              "       [0.74570368, 0.68004336],\n",
              "       [0.81504485, 0.86220046],\n",
              "       [0.78111143, 0.50506517]])"
            ]
          },
          "metadata": {
            "tags": []
          },
          "execution_count": 88
        }
      ]
    },
    {
      "cell_type": "code",
      "metadata": {
        "id": "v5FN0-PyCytt",
        "colab_type": "code",
        "colab": {}
      },
      "source": [
        "## 4. Train\n",
        "\n",
        "# define hyper_parameters\n",
        "\n",
        "alpha1 = 0.01\n",
        "alpha2 = 0.01\n",
        "\n",
        "max_epoch = 3000   #반복횟수"
      ],
      "execution_count": 0,
      "outputs": []
    },
    {
      "cell_type": "code",
      "metadata": {
        "id": "sWeSmoDoDyrO",
        "colab_type": "code",
        "colab": {}
      },
      "source": [
        "def sigmoid(z):\n",
        "    return 1./(np.ones_like(z)+np.exp(-z))\n",
        "                    #뒤에 오는 거랑 같은 행렬크기 만들고 1로 다 채움"
      ],
      "execution_count": 0,
      "outputs": []
    },
    {
      "cell_type": "code",
      "metadata": {
        "id": "qiEImkn4Ht5s",
        "colab_type": "code",
        "colab": {}
      },
      "source": [
        "def SSE(g, y):\n",
        "    result=0.\n",
        "    for i in range(g.shape[0]):\n",
        "        for j in range(g.shape[1]):\n",
        "            result += (g[i, j]-y[i, j])**2\n",
        "    return result/2."
      ],
      "execution_count": 0,
      "outputs": []
    },
    {
      "cell_type": "code",
      "metadata": {
        "id": "LSqcsXUrDPaR",
        "colab_type": "code",
        "colab": {
          "base_uri": "https://localhost:8080/",
          "height": 545
        },
        "outputId": "bb51fbee-66fa-4de3-d944-3d334645b898"
      },
      "source": [
        "for epoch in range(max_epoch): \n",
        "  #forward propagation\n",
        "  x_bar_bar = np.dot(x_bar, v)\n",
        "  F = sigmoid(x_bar_bar)\n",
        "  F_bar = np.hstack((np.ones((I, 1)), F))\n",
        "  F_bar_bar =  np.dot(F_bar, w)\n",
        "  G = sigmoid(F_bar_bar)\n",
        "\n",
        "  #back propagation\n",
        "\n",
        "  #출력층 단계\n",
        "  for k in range(0, K+1):\n",
        "      for j in range(0, J):\n",
        "          for i in range(0, I):\n",
        "            w[k, j] -= alpha1*(G[i,j]-y[i,j])*G[i, j]*(1-G[i, j])*F_bar[i, k]\n",
        "\n",
        "  #은닉층 단계\n",
        "  for n in range(0, N+1):\n",
        "      for k in range(0, K):\n",
        "          for i in range(0, I):\n",
        "              for j in range(0, J):\n",
        "                  v[n, k] -= alpha2*(G[i,j]-y[i,j])*G[i, j]*(1-G[i, j])*w[k, j]*F[i, k]*(1-F[i, k])*x_bar[i, n]\n",
        "  error = SSE(G,y)\n",
        "  if epoch % 100==0:\n",
        "    print(\"epoch: %d, error : %.2f\" %(epoch, error))  #error가 작아지게 나타나는데\n",
        "   # 좋은 점이 아니다. 내가 준 data에만 맞게 과적합이 일어날수 있다."
      ],
      "execution_count": 92,
      "outputs": [
        {
          "output_type": "stream",
          "text": [
            "epoch: 0, error : 23.78\n",
            "epoch: 100, error : 12.38\n",
            "epoch: 200, error : 12.39\n",
            "epoch: 300, error : 12.40\n",
            "epoch: 400, error : 12.35\n",
            "epoch: 500, error : 12.28\n",
            "epoch: 600, error : 12.19\n",
            "epoch: 700, error : 12.09\n",
            "epoch: 800, error : 11.97\n",
            "epoch: 900, error : 11.84\n",
            "epoch: 1000, error : 11.69\n",
            "epoch: 1100, error : 11.51\n",
            "epoch: 1200, error : 11.26\n",
            "epoch: 1300, error : 10.92\n",
            "epoch: 1400, error : 10.29\n",
            "epoch: 1500, error : 9.34\n",
            "epoch: 1600, error : 8.15\n",
            "epoch: 1700, error : 6.88\n",
            "epoch: 1800, error : 5.72\n",
            "epoch: 1900, error : 4.81\n",
            "epoch: 2000, error : 4.14\n",
            "epoch: 2100, error : 3.66\n",
            "epoch: 2200, error : 3.25\n",
            "epoch: 2300, error : 2.94\n",
            "epoch: 2400, error : 2.70\n",
            "epoch: 2500, error : 2.50\n",
            "epoch: 2600, error : 2.33\n",
            "epoch: 2700, error : 2.20\n",
            "epoch: 2800, error : 2.08\n",
            "epoch: 2900, error : 1.97\n"
          ],
          "name": "stdout"
        }
      ]
    },
    {
      "cell_type": "code",
      "metadata": {
        "id": "_IeGIrdgHNPh",
        "colab_type": "code",
        "colab": {
          "base_uri": "https://localhost:8080/",
          "height": 122
        },
        "outputId": "733fa71e-e51a-413d-dd98-5f587f59f1e1"
      },
      "source": [
        "w #파라미터 값의 변화로 학습됨을 확인한다."
      ],
      "execution_count": 93,
      "outputs": [
        {
          "output_type": "execute_result",
          "data": {
            "text/plain": [
              "array([[ 2.41480876, -3.1232808 ],\n",
              "       [ 2.06811929, -1.7450885 ],\n",
              "       [ 0.03299145,  0.17003574],\n",
              "       [-5.34730119,  5.28499577],\n",
              "       [-4.19285688,  4.32148871],\n",
              "       [ 1.10815934, -0.86587767]])"
            ]
          },
          "metadata": {
            "tags": []
          },
          "execution_count": 93
        }
      ]
    },
    {
      "cell_type": "code",
      "metadata": {
        "id": "4Das5K1HHO0R",
        "colab_type": "code",
        "colab": {
          "base_uri": "https://localhost:8080/",
          "height": 70
        },
        "outputId": "dd9f0e9f-e5e7-4169-c21a-924cdb93296e"
      },
      "source": [
        "v"
      ],
      "execution_count": 94,
      "outputs": [
        {
          "output_type": "execute_result",
          "data": {
            "text/plain": [
              "array([[ 1.15894382,  0.7811831 , -3.7183537 , -7.62755615, -1.56130624],\n",
              "       [ 1.35279552,  1.26586209,  0.56974941,  0.67575588,  0.14427672],\n",
              "       [ 1.28538713,  0.93998613,  0.79104899,  1.91646476,  0.53509504]])"
            ]
          },
          "metadata": {
            "tags": []
          },
          "execution_count": 94
        }
      ]
    },
    {
      "cell_type": "code",
      "metadata": {
        "id": "Xjhvyz-uHPVU",
        "colab_type": "code",
        "colab": {}
      },
      "source": [
        "## 5. Test\n",
        "\n",
        "def h(x, v, w):\n",
        "    _x_bar = np.hstack((np.ones((I, 1)),x))\n",
        "    _x_bar_bar = np.dot(_x_bar, v)\n",
        "    _F = sigmoid(_x_bar_bar)\n",
        "    _F_bar = np.hstack((np.ones((I, 1)), _F))\n",
        "    _F_bar_bar =  np.dot(_F_bar, w)\n",
        "    _G = sigmoid(_F_bar_bar)\n",
        "\n",
        "    return G    #가설 함수 만들어둠..!\n",
        "\n"
      ],
      "execution_count": 0,
      "outputs": []
    },
    {
      "cell_type": "code",
      "metadata": {
        "id": "XnImah-eKsG8",
        "colab_type": "code",
        "colab": {
          "base_uri": "https://localhost:8080/",
          "height": 914
        },
        "outputId": "7cd3bbcc-7c99-4254-d3bc-16f37b9868b3"
      },
      "source": [
        "g=h(x,v,w)\n",
        "g # 둘중에 큰게 label입니다."
      ],
      "execution_count": 96,
      "outputs": [
        {
          "output_type": "execute_result",
          "data": {
            "text/plain": [
              "array([[0.6827791 , 0.31664519],\n",
              "       [0.83245907, 0.16398107],\n",
              "       [0.04438627, 0.95888283],\n",
              "       [0.94803258, 0.04879796],\n",
              "       [0.03844534, 0.96421445],\n",
              "       [0.83999843, 0.15295842],\n",
              "       [0.66751414, 0.33334154],\n",
              "       [0.05041772, 0.95298659],\n",
              "       [0.93610837, 0.06013055],\n",
              "       [0.08366695, 0.92156151],\n",
              "       [0.24508505, 0.75936585],\n",
              "       [0.36466465, 0.63698244],\n",
              "       [0.86217673, 0.13325294],\n",
              "       [0.93935118, 0.05678654],\n",
              "       [0.08932541, 0.91429508],\n",
              "       [0.18242807, 0.82444321],\n",
              "       [0.93512354, 0.06216479],\n",
              "       [0.91922092, 0.07759955],\n",
              "       [0.95702939, 0.04048857],\n",
              "       [0.92592463, 0.07121579],\n",
              "       [0.18001868, 0.82764506],\n",
              "       [0.14228228, 0.86225011],\n",
              "       [0.96761131, 0.03026116],\n",
              "       [0.94116907, 0.05481236],\n",
              "       [0.82653947, 0.16779862],\n",
              "       [0.64710492, 0.35159169],\n",
              "       [0.96292277, 0.03430667],\n",
              "       [0.68364216, 0.31211505],\n",
              "       [0.70887071, 0.287249  ],\n",
              "       [0.93066076, 0.06464654],\n",
              "       [0.12229602, 0.88122265],\n",
              "       [0.07876284, 0.9265648 ],\n",
              "       [0.05323436, 0.9506249 ],\n",
              "       [0.83234927, 0.16240003],\n",
              "       [0.35519874, 0.64483582],\n",
              "       [0.67208539, 0.3331212 ],\n",
              "       [0.96773245, 0.02996698],\n",
              "       [0.9722826 , 0.02549243],\n",
              "       [0.20811823, 0.79531542],\n",
              "       [0.05877761, 0.9445946 ],\n",
              "       [0.92497488, 0.07149174],\n",
              "       [0.84379193, 0.15321308],\n",
              "       [0.74737596, 0.24633954],\n",
              "       [0.2473325 , 0.75824032],\n",
              "       [0.97300392, 0.02459875],\n",
              "       [0.82184538, 0.17614454],\n",
              "       [0.08766442, 0.91715288],\n",
              "       [0.89032123, 0.10433331],\n",
              "       [0.82753403, 0.16815603],\n",
              "       [0.06789871, 0.93590443],\n",
              "       [0.17273224, 0.83265349]])"
            ]
          },
          "metadata": {
            "tags": []
          },
          "execution_count": 96
        }
      ]
    },
    {
      "cell_type": "code",
      "metadata": {
        "id": "sRffQhqQK-lQ",
        "colab_type": "code",
        "colab": {
          "base_uri": "https://localhost:8080/",
          "height": 70
        },
        "outputId": "4fd62f89-d673-4663-a401-f97ff2098207"
      },
      "source": [
        "labels = np.argmax(g, axis=1) # axis=1은 행 방향으로 위의 g의 값들을 봄\n",
        "labels"
      ],
      "execution_count": 97,
      "outputs": [
        {
          "output_type": "execute_result",
          "data": {
            "text/plain": [
              "array([0, 0, 1, 0, 1, 0, 0, 1, 0, 1, 1, 1, 0, 0, 1, 1, 0, 0, 0, 0, 1, 1,\n",
              "       0, 0, 0, 0, 0, 0, 0, 0, 1, 1, 1, 0, 1, 0, 0, 0, 1, 1, 0, 0, 0, 1,\n",
              "       0, 0, 1, 0, 0, 1, 1])"
            ]
          },
          "metadata": {
            "tags": []
          },
          "execution_count": 97
        }
      ]
    },
    {
      "cell_type": "code",
      "metadata": {
        "id": "fuInOqmHLY3Q",
        "colab_type": "code",
        "colab": {}
      },
      "source": [
        "## 6. Plot\n",
        "\n",
        "# 0 : 파란색  1 : 빨간색\n",
        "\n",
        "x_0=x[labels==0]  #true false로 행렬안의 값들을 반환해 줌.\n",
        "x_1=x[labels==1]  #true false로 행렬안의 값들을 반환해 줌.\n"
      ],
      "execution_count": 0,
      "outputs": []
    },
    {
      "cell_type": "code",
      "metadata": {
        "id": "yg7c5DaLMSh0",
        "colab_type": "code",
        "colab": {
          "base_uri": "https://localhost:8080/",
          "height": 298
        },
        "outputId": "55604ef4-0ea0-4a5f-a394-dbf8a52fb2b9"
      },
      "source": [
        "plt.plot(x_0[: ,0], x_0[: ,1], 'b.', label='0')\n",
        "plt.plot(x_1[: ,0], x_1[: ,1], 'r.', label='1')\n",
        "\n",
        "plt.title('Plot data')\n",
        "plt.legend()\n",
        "plt.show\n"
      ],
      "execution_count": 101,
      "outputs": [
        {
          "output_type": "execute_result",
          "data": {
            "text/plain": [
              "<function matplotlib.pyplot.show>"
            ]
          },
          "metadata": {
            "tags": []
          },
          "execution_count": 101
        },
        {
          "output_type": "display_data",
          "data": {
            "image/png": "[encoded data removed]",
            "text/plain": [
              "<Figure size 432x288 with 1 Axes>"
            ]
          },
          "metadata": {
            "tags": [],
            "needs_background": "light"
          }
        }
      ]
    },
    {
      "cell_type": "code",
      "metadata": {
        "id": "2zJhFVRiM0c4",
        "colab_type": "code",
        "colab": {
          "base_uri": "https://localhost:8080/",
          "height": 298
        },
        "outputId": "fc0be45a-a347-458b-9982-5d4de65e7578"
      },
      "source": [
        "labels_original = np.argmax(y, axis=1)\n",
        "\n",
        "x_0_original = x[labels_original==0]\n",
        "x_1_original = x[labels_original==1]\n",
        "\n",
        "plt.plot(x_0_original[:,0], x_0_original[:,1], 'b.', label='0')\n",
        "plt.plot(x_1_original[:,0], x_1_original[:,1], 'r.', label='1')\n",
        "\n",
        "plt.title('Plot data')\n",
        "plt.legend()\n",
        "plt.show"
      ],
      "execution_count": 102,
      "outputs": [
        {
          "output_type": "execute_result",
          "data": {
            "text/plain": [
              "<function matplotlib.pyplot.show>"
            ]
          },
          "metadata": {
            "tags": []
          },
          "execution_count": 102
        },
        {
          "output_type": "display_data",
          "data": {
            "image/png": "[encoded data removed]",
            "text/plain": [
              "<Figure size 432x288 with 1 Axes>"
            ]
          },
          "metadata": {
            "tags": [],
            "needs_background": "light"
          }
        }
      ]
    }
  ]
}